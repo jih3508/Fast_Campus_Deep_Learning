{
 "cells": [
  {
   "cell_type": "markdown",
   "metadata": {},
   "source": [
    "# **TensorFlow 2.0**"
   ]
  },
  {
   "cell_type": "code",
   "execution_count": 1,
   "metadata": {},
   "outputs": [],
   "source": [
    "import os\n",
    "from glob import glob\n",
    "from datetime import datetime\n",
    "\n",
    "import numpy as np\n",
    "\n",
    "import tensorflow as tf\n",
    "from tensorflow.keras import layers\n",
    "\n",
    "from tensorflow.keras import datasets \n",
    "\n",
    "import matplotlib.pyplot as plt\n",
    "\n",
    "%matplotlib inline"
   ]
  },
  {
   "cell_type": "markdown",
   "metadata": {},
   "source": [
    "# **Hyperparameter Tunning**"
   ]
  },
  {
   "cell_type": "code",
   "execution_count": 2,
   "metadata": {},
   "outputs": [],
   "source": [
    "num_epochs = 50\n",
    "batch_size = 32\n",
    "\n",
    "learning_rate = 0.001\n",
    "\n",
    "dropout_rate = 0.5\n",
    "\n",
    "input_shape = (32, 32, 3)\n",
    "num_classes = 10"
   ]
  },
  {
   "cell_type": "markdown",
   "metadata": {},
   "source": [
    "# **Build Model**"
   ]
  },
  {
   "cell_type": "code",
   "execution_count": 3,
   "metadata": {},
   "outputs": [],
   "source": [
    "inputs = layers.Input(input_shape)\n",
    "\n",
    "net = layers.Conv2D(32, (3, 3), padding='SAME')(inputs)\n",
    "net = layers.Activation('relu')(net)\n",
    "net = layers.Conv2D(32, (3, 3), padding='SAME')(net)\n",
    "net = layers.Activation('relu')(net)\n",
    "net = layers.MaxPooling2D(pool_size=(2, 2))(net)\n",
    "net = layers.Dropout(dropout_rate)(net)\n",
    "\n",
    "net = layers.Conv2D(64, (3, 3), padding='SAME')(net)\n",
    "net = layers.Activation('relu')(net)\n",
    "net = layers.Conv2D(64, (3, 3), padding='SAME')(net)\n",
    "net = layers.Activation('relu')(net)\n",
    "net = layers.MaxPooling2D(pool_size=(2, 2))(net)\n",
    "net = layers.Dropout(dropout_rate)(net)\n",
    "\n",
    "net = layers.Flatten()(net)\n",
    "net = layers.Dense(512)(net)\n",
    "net = layers.Activation('relu')(net)\n",
    "net = layers.Dropout(dropout_rate)(net)\n",
    "net = layers.Dense(num_classes)(net)\n",
    "net = layers.Activation('softmax')(net)\n",
    "\n",
    "model = tf.keras.Model(inputs=inputs, outputs=net, name='Basic_CNN')"
   ]
  },
  {
   "cell_type": "code",
   "execution_count": 4,
   "metadata": {},
   "outputs": [],
   "source": [
    "# Model is the full model w/o custom layers\n",
    "model.compile(optimizer=tf.keras.optimizers.Adam(learning_rate),  # Optimization\n",
    "              loss='sparse_categorical_crossentropy',  # Loss Function \n",
    "              metrics=['accuracy'])  # Metrics / Accuracy"
   ]
  },
  {
   "cell_type": "markdown",
   "metadata": {},
   "source": [
    "# **Data Preprocess**"
   ]
  },
  {
   "cell_type": "code",
   "execution_count": 5,
   "metadata": {},
   "outputs": [],
   "source": [
    "train_paths = glob('Downloads/Part3) 이미지 분석으로 배우는 tensorflow 2.0과 Pytorch/dataset/cifar/train/*.png')[:1000]\n",
    "test_paths = glob('Downloads/Part3) 이미지 분석으로 배우는 tensorflow 2.0과 Pytorch/dataset/cifar/test/*.png')[:1000]"
   ]
  },
  {
   "cell_type": "code",
   "execution_count": 6,
   "metadata": {},
   "outputs": [],
   "source": [
    "def get_class_name(path):\n",
    "    return path.split('_')[-1].replace('.png', '')"
   ]
  },
  {
   "cell_type": "code",
   "execution_count": 7,
   "metadata": {},
   "outputs": [],
   "source": [
    "train_labels = [get_class_name(path) for path in train_paths]\n",
    "class_names = np.unique(train_labels)"
   ]
  },
  {
   "cell_type": "code",
   "execution_count": 8,
   "metadata": {},
   "outputs": [],
   "source": [
    "def get_label(path):\n",
    "    fname = tf.strings.split(path, '_')[-1]\n",
    "    lbl_name = tf.strings.regex_replace(fname, '.png', '')\n",
    "    onehot = tf.cast(lbl_name == class_names, tf.uint8)\n",
    "    return tf.argmax(onehot)  # 이번에는 onehot이 아닌 label 번호로"
   ]
  },
  {
   "cell_type": "code",
   "execution_count": 9,
   "metadata": {},
   "outputs": [],
   "source": [
    "def load_image_label(path):\n",
    "    gfile = tf.io.read_file(path)\n",
    "    image = tf.io.decode_image(gfile)\n",
    "    image = tf.cast(image, tf.float32) / 255.  # rescale\n",
    "    \n",
    "    label = get_label(path)\n",
    "    return image, label"
   ]
  },
  {
   "cell_type": "code",
   "execution_count": 10,
   "metadata": {},
   "outputs": [],
   "source": [
    "def image_preprocess(image, label):\n",
    "    image = tf.image.random_flip_up_down(image)\n",
    "    image = tf.image.random_flip_left_right(image)\n",
    "    return image, label"
   ]
  },
  {
   "cell_type": "code",
   "execution_count": 11,
   "metadata": {},
   "outputs": [],
   "source": [
    "AUTOTUNE = tf.data.experimental.AUTOTUNE"
   ]
  },
  {
   "cell_type": "code",
   "execution_count": 12,
   "metadata": {},
   "outputs": [],
   "source": [
    "train_dataset = tf.data.Dataset.from_tensor_slices(train_paths)\n",
    "train_dataset = train_dataset.map(load_image_label, num_parallel_calls=AUTOTUNE)\n",
    "train_dataset = train_dataset.map(image_preprocess, num_parallel_calls=AUTOTUNE)\n",
    "train_dataset = train_dataset.batch(batch_size)\n",
    "train_dataset = train_dataset.shuffle(buffer_size=len(train_paths))\n",
    "train_dataset = train_dataset.repeat()"
   ]
  },
  {
   "cell_type": "code",
   "execution_count": 13,
   "metadata": {},
   "outputs": [],
   "source": [
    "test_dataset = tf.data.Dataset.from_tensor_slices(test_paths)\n",
    "test_dataset = test_dataset.map(load_image_label, num_parallel_calls=AUTOTUNE)\n",
    "test_dataset = test_dataset.batch(batch_size)\n",
    "test_dataset = test_dataset.repeat()"
   ]
  },
  {
   "cell_type": "markdown",
   "metadata": {},
   "source": [
    "# **Checkpoint**"
   ]
  },
  {
   "cell_type": "code",
   "execution_count": 14,
   "metadata": {},
   "outputs": [
    {
     "name": "stdout",
     "output_type": "stream",
     "text": [
      "WARNING:tensorflow:From <ipython-input-14-2bcdb6787ac1>:5: Model.fit_generator (from tensorflow.python.keras.engine.training) is deprecated and will be removed in a future version.\n",
      "Instructions for updating:\n",
      "Please use Model.fit, which supports generators.\n",
      "Epoch 1/50\n",
      "31/31 [==============================] - 1s 37ms/step - loss: 2.3200 - accuracy: 0.1157 - val_loss: 2.3004 - val_accuracy: 0.0897\n",
      "Epoch 2/50\n",
      "31/31 [==============================] - 1s 25ms/step - loss: 2.2866 - accuracy: 0.1333 - val_loss: 2.2860 - val_accuracy: 0.1179\n",
      "Epoch 3/50\n",
      "31/31 [==============================] - 1s 24ms/step - loss: 2.2163 - accuracy: 0.1746 - val_loss: 2.0909 - val_accuracy: 0.2097\n",
      "Epoch 4/50\n",
      "31/31 [==============================] - 1s 25ms/step - loss: 2.1601 - accuracy: 0.1767 - val_loss: 2.1297 - val_accuracy: 0.2631\n",
      "Epoch 5/50\n",
      "31/31 [==============================] - 1s 23ms/step - loss: 2.1246 - accuracy: 0.2076 - val_loss: 2.0832 - val_accuracy: 0.2460\n",
      "Epoch 6/50\n",
      "31/31 [==============================] - 1s 21ms/step - loss: 2.0765 - accuracy: 0.2417 - val_loss: 2.0533 - val_accuracy: 0.2329\n",
      "Epoch 7/50\n",
      "31/31 [==============================] - 1s 20ms/step - loss: 2.0179 - accuracy: 0.2469 - val_loss: 1.9967 - val_accuracy: 0.2661\n",
      "Epoch 8/50\n",
      "31/31 [==============================] - 1s 20ms/step - loss: 1.9418 - accuracy: 0.2955 - val_loss: 1.9326 - val_accuracy: 0.2802\n",
      "Epoch 9/50\n",
      "31/31 [==============================] - 1s 21ms/step - loss: 1.8734 - accuracy: 0.3048 - val_loss: 1.8646 - val_accuracy: 0.3175\n",
      "Epoch 10/50\n",
      "31/31 [==============================] - 1s 20ms/step - loss: 1.8833 - accuracy: 0.3048 - val_loss: 1.8532 - val_accuracy: 0.3458\n",
      "Epoch 11/50\n",
      "31/31 [==============================] - 1s 20ms/step - loss: 1.8628 - accuracy: 0.3202 - val_loss: 1.8248 - val_accuracy: 0.3266\n",
      "Epoch 12/50\n",
      "31/31 [==============================] - 1s 20ms/step - loss: 1.7608 - accuracy: 0.3667 - val_loss: 1.7871 - val_accuracy: 0.3599\n",
      "Epoch 13/50\n",
      "31/31 [==============================] - 1s 20ms/step - loss: 1.7472 - accuracy: 0.3508 - val_loss: 1.7397 - val_accuracy: 0.3710\n",
      "Epoch 14/50\n",
      "31/31 [==============================] - 1s 20ms/step - loss: 1.7375 - accuracy: 0.3623 - val_loss: 1.8422 - val_accuracy: 0.3347\n",
      "Epoch 15/50\n",
      "31/31 [==============================] - 1s 21ms/step - loss: 1.7100 - accuracy: 0.3548 - val_loss: 1.7759 - val_accuracy: 0.3609\n",
      "Epoch 16/50\n",
      "31/31 [==============================] - 1s 24ms/step - loss: 1.6871 - accuracy: 0.3864 - val_loss: 1.7257 - val_accuracy: 0.3911\n",
      "Epoch 17/50\n",
      "31/31 [==============================] - 1s 20ms/step - loss: 1.6793 - accuracy: 0.3843 - val_loss: 1.7393 - val_accuracy: 0.3619\n",
      "Epoch 18/50\n",
      "31/31 [==============================] - 1s 22ms/step - loss: 1.6171 - accuracy: 0.3957 - val_loss: 1.6934 - val_accuracy: 0.3690\n",
      "Epoch 19/50\n",
      "31/31 [==============================] - 1s 21ms/step - loss: 1.5727 - accuracy: 0.4174 - val_loss: 1.7009 - val_accuracy: 0.3800\n",
      "Epoch 20/50\n",
      "31/31 [==============================] - 1s 23ms/step - loss: 1.5600 - accuracy: 0.4360 - val_loss: 1.6663 - val_accuracy: 0.3982\n",
      "Epoch 21/50\n",
      "31/31 [==============================] - 1s 21ms/step - loss: 1.5861 - accuracy: 0.4112 - val_loss: 1.6845 - val_accuracy: 0.3972\n",
      "Epoch 22/50\n",
      "31/31 [==============================] - 1s 21ms/step - loss: 1.5058 - accuracy: 0.4718 - val_loss: 1.6300 - val_accuracy: 0.4133\n",
      "Epoch 23/50\n",
      "31/31 [==============================] - 1s 24ms/step - loss: 1.4843 - accuracy: 0.4421 - val_loss: 1.6286 - val_accuracy: 0.4234\n",
      "Epoch 24/50\n",
      "31/31 [==============================] - 1s 23ms/step - loss: 1.4862 - accuracy: 0.4659 - val_loss: 1.6189 - val_accuracy: 0.4264\n",
      "Epoch 25/50\n",
      "31/31 [==============================] - 1s 21ms/step - loss: 1.4726 - accuracy: 0.4638 - val_loss: 1.6269 - val_accuracy: 0.4405\n",
      "Epoch 26/50\n",
      "31/31 [==============================] - 1s 22ms/step - loss: 1.4249 - accuracy: 0.4514 - val_loss: 1.6559 - val_accuracy: 0.4294\n",
      "Epoch 27/50\n",
      "31/31 [==============================] - 1s 23ms/step - loss: 1.3882 - accuracy: 0.5072 - val_loss: 1.6093 - val_accuracy: 0.4315\n",
      "Epoch 28/50\n",
      "31/31 [==============================] - 1s 21ms/step - loss: 1.3487 - accuracy: 0.5155 - val_loss: 1.6892 - val_accuracy: 0.4234\n",
      "Epoch 29/50\n",
      "31/31 [==============================] - 1s 20ms/step - loss: 1.3358 - accuracy: 0.5134 - val_loss: 1.6551 - val_accuracy: 0.4194\n",
      "Epoch 30/50\n",
      "31/31 [==============================] - 1s 20ms/step - loss: 1.3558 - accuracy: 0.5155 - val_loss: 1.6122 - val_accuracy: 0.4113\n",
      "Epoch 31/50\n",
      "31/31 [==============================] - 1s 20ms/step - loss: 1.3215 - accuracy: 0.5297 - val_loss: 1.5761 - val_accuracy: 0.4435\n",
      "Epoch 32/50\n",
      "31/31 [==============================] - 1s 20ms/step - loss: 1.2811 - accuracy: 0.5302 - val_loss: 1.6370 - val_accuracy: 0.4234\n",
      "Epoch 33/50\n",
      "31/31 [==============================] - 1s 20ms/step - loss: 1.2672 - accuracy: 0.5455 - val_loss: 1.5721 - val_accuracy: 0.4647\n",
      "Epoch 34/50\n",
      "31/31 [==============================] - 1s 21ms/step - loss: 1.2233 - accuracy: 0.5651 - val_loss: 1.5336 - val_accuracy: 0.4798\n",
      "Epoch 35/50\n",
      "31/31 [==============================] - 1s 21ms/step - loss: 1.2189 - accuracy: 0.5475 - val_loss: 1.5770 - val_accuracy: 0.4768\n",
      "Epoch 36/50\n",
      "31/31 [==============================] - 1s 20ms/step - loss: 1.2496 - accuracy: 0.5579 - val_loss: 1.5304 - val_accuracy: 0.4546\n",
      "Epoch 37/50\n",
      "31/31 [==============================] - 1s 20ms/step - loss: 1.1783 - accuracy: 0.5754 - val_loss: 1.6068 - val_accuracy: 0.4365\n",
      "Epoch 38/50\n",
      "31/31 [==============================] - 1s 20ms/step - loss: 1.1624 - accuracy: 0.5940 - val_loss: 1.5352 - val_accuracy: 0.4637\n",
      "Epoch 39/50\n",
      "31/31 [==============================] - 1s 20ms/step - loss: 1.1545 - accuracy: 0.5988 - val_loss: 1.6561 - val_accuracy: 0.4748\n",
      "Epoch 40/50\n",
      "31/31 [==============================] - 1s 20ms/step - loss: 1.1434 - accuracy: 0.5922 - val_loss: 1.6365 - val_accuracy: 0.4647\n",
      "Epoch 41/50\n",
      "31/31 [==============================] - 1s 20ms/step - loss: 1.1843 - accuracy: 0.5744 - val_loss: 1.6443 - val_accuracy: 0.4627\n",
      "Epoch 42/50\n",
      "31/31 [==============================] - 1s 20ms/step - loss: 1.1396 - accuracy: 0.5785 - val_loss: 1.6500 - val_accuracy: 0.4677\n",
      "Epoch 43/50\n",
      "31/31 [==============================] - 1s 20ms/step - loss: 1.0885 - accuracy: 0.6048 - val_loss: 1.5713 - val_accuracy: 0.4798\n",
      "Epoch 44/50\n",
      "31/31 [==============================] - 1s 21ms/step - loss: 1.1026 - accuracy: 0.5943 - val_loss: 1.5810 - val_accuracy: 0.4677\n",
      "Epoch 45/50\n",
      "31/31 [==============================] - 1s 20ms/step - loss: 0.9740 - accuracy: 0.6539 - val_loss: 1.6964 - val_accuracy: 0.4708\n",
      "Epoch 46/50\n",
      "31/31 [==============================] - 1s 20ms/step - loss: 1.0463 - accuracy: 0.6190 - val_loss: 1.6349 - val_accuracy: 0.4546\n",
      "Epoch 47/50\n",
      "31/31 [==============================] - 1s 20ms/step - loss: 1.0715 - accuracy: 0.6112 - val_loss: 1.6452 - val_accuracy: 0.4688\n",
      "Epoch 48/50\n",
      "31/31 [==============================] - 1s 20ms/step - loss: 0.9063 - accuracy: 0.6849 - val_loss: 1.8434 - val_accuracy: 0.4667\n",
      "Epoch 49/50\n",
      "31/31 [==============================] - 1s 20ms/step - loss: 1.0023 - accuracy: 0.6302 - val_loss: 1.7730 - val_accuracy: 0.4486\n",
      "Epoch 50/50\n",
      "31/31 [==============================] - 1s 20ms/step - loss: 0.9918 - accuracy: 0.6612 - val_loss: 1.7469 - val_accuracy: 0.4627\n"
     ]
    }
   ],
   "source": [
    "steps_per_epoch = len(train_paths) // batch_size\n",
    "validation_steps = len(test_paths) // batch_size\n",
    "\n",
    "#history 하기전에 모델에 변수로 저장해야한다.\n",
    "history = model.fit_generator(\n",
    "    train_dataset,\n",
    "    steps_per_epoch=steps_per_epoch,\n",
    "    validation_data=test_dataset,\n",
    "    validation_steps=validation_steps,\n",
    "    epochs=num_epochs\n",
    ")"
   ]
  },
  {
   "cell_type": "markdown",
   "metadata": {},
   "source": [
    "# **History 들여다 보기**"
   ]
  },
  {
   "cell_type": "code",
   "execution_count": 15,
   "metadata": {},
   "outputs": [
    {
     "data": {
      "text/plain": [
       "dict_keys(['loss', 'accuracy', 'val_loss', 'val_accuracy'])"
      ]
     },
     "execution_count": 15,
     "metadata": {},
     "output_type": "execute_result"
    }
   ],
   "source": [
    "history.history.keys()"
   ]
  },
  {
   "cell_type": "code",
   "execution_count": 16,
   "metadata": {},
   "outputs": [
    {
     "data": {
      "text/plain": [
       "{'verbose': 1, 'epochs': 50, 'steps': 31}"
      ]
     },
     "execution_count": 16,
     "metadata": {},
     "output_type": "execute_result"
    }
   ],
   "source": [
    "history.params"
   ]
  },
  {
   "cell_type": "code",
   "execution_count": 17,
   "metadata": {},
   "outputs": [],
   "source": [
    "new_model = history.model"
   ]
  },
  {
   "cell_type": "code",
   "execution_count": 18,
   "metadata": {},
   "outputs": [
    {
     "data": {
      "image/png": "[encoded data removed]",
      "text/plain": [
       "<Figure size 432x288 with 1 Axes>"
      ]
     },
     "metadata": {
      "needs_background": "light"
     },
     "output_type": "display_data"
    }
   ],
   "source": [
    "plt.plot(history.history['accuracy'])\n",
    "plt.plot(history.history['val_accuracy'])\n",
    "plt.title(\"Model Accuracy\")\n",
    "plt.xlabel('epoch')\n",
    "plt.ylabel('accuracy')\n",
    "plt.legend(['train', 'validation'])\n",
    "plt.show()"
   ]
  },
  {
   "cell_type": "code",
   "execution_count": 19,
   "metadata": {},
   "outputs": [
    {
     "data": {
      "image/png": "[encoded data removed]",
      "text/plain": [
       "<Figure size 432x288 with 1 Axes>"
      ]
     },
     "metadata": {
      "needs_background": "light"
     },
     "output_type": "display_data"
    }
   ],
   "source": [
    "plt.plot(history.history['loss'])\n",
    "plt.plot(history.history['val_loss'])\n",
    "plt.title('Model Loss')\n",
    "plt.ylabel('loss')\n",
    "plt.xlabel('epoch')\n",
    "plt.legend(['train', 'validation'])\n",
    "plt.show()"
   ]
  }
 ],
 "metadata": {
  "kernelspec": {
   "display_name": "Python 3",
   "language": "python",
   "name": "python3"
  },
  "language_info": {
   "codemirror_mode": {
    "name": "ipython",
    "version": 3
   },
   "file_extension": ".py",
   "mimetype": "text/x-python",
   "name": "python",
   "nbconvert_exporter": "python",
   "pygments_lexer": "ipython3",
   "version": "3.8.3"
  }
 },
 "nbformat": 4,
 "nbformat_minor": 4
}
