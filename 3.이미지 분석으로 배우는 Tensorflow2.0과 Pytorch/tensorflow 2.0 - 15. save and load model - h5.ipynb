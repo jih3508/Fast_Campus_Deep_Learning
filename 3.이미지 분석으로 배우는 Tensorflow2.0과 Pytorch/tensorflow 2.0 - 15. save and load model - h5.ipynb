{
 "cells": [
  {
   "cell_type": "markdown",
   "metadata": {},
   "source": [
    "# **TensorFlow 2.0**"
   ]
  },
  {
   "cell_type": "code",
   "execution_count": 1,
   "metadata": {},
   "outputs": [],
   "source": [
    "import os\n",
    "from glob import glob\n",
    "from datetime import datetime\n",
    "\n",
    "import numpy as np\n",
    "\n",
    "import tensorflow as tf\n",
    "from tensorflow.keras import layers\n",
    "\n",
    "from tensorflow.keras import datasets \n",
    "\n",
    "import matplotlib.pyplot as plt\n",
    "\n",
    "%matplotlib inline"
   ]
  },
  {
   "cell_type": "markdown",
   "metadata": {},
   "source": [
    "# **Hyperparameter Tunning**"
   ]
  },
  {
   "cell_type": "code",
   "execution_count": 2,
   "metadata": {},
   "outputs": [],
   "source": [
    "num_epochs = 50\n",
    "batch_size = 32\n",
    "\n",
    "learning_rate = 0.001\n",
    "\n",
    "dropout_rate = 0.5\n",
    "\n",
    "input_shape = (32, 32, 3)\n",
    "num_classes = 10"
   ]
  },
  {
   "cell_type": "markdown",
   "metadata": {},
   "source": [
    "# **Build Model**"
   ]
  },
  {
   "cell_type": "code",
   "execution_count": 3,
   "metadata": {},
   "outputs": [],
   "source": [
    "inputs = layers.Input(input_shape)\n",
    "\n",
    "net = layers.Conv2D(32, (3, 3), padding='SAME')(inputs)\n",
    "net = layers.Activation('relu')(net)\n",
    "net = layers.Conv2D(32, (3, 3), padding='SAME')(net)\n",
    "net = layers.Activation('relu')(net)\n",
    "net = layers.MaxPooling2D(pool_size=(2, 2))(net)\n",
    "net = layers.Dropout(dropout_rate)(net)\n",
    "\n",
    "net = layers.Conv2D(64, (3, 3), padding='SAME')(net)\n",
    "net = layers.Activation('relu')(net)\n",
    "net = layers.Conv2D(64, (3, 3), padding='SAME')(net)\n",
    "net = layers.Activation('relu')(net)\n",
    "net = layers.MaxPooling2D(pool_size=(2, 2))(net)\n",
    "net = layers.Dropout(dropout_rate)(net)\n",
    "\n",
    "net = layers.Flatten()(net)\n",
    "net = layers.Dense(512)(net)\n",
    "net = layers.Activation('relu')(net)\n",
    "net = layers.Dropout(dropout_rate)(net)\n",
    "net = layers.Dense(num_classes)(net)\n",
    "net = layers.Activation('softmax')(net)\n",
    "\n",
    "model = tf.keras.Model(inputs=inputs, outputs=net, name='Basic_CNN')"
   ]
  },
  {
   "cell_type": "code",
   "execution_count": 4,
   "metadata": {},
   "outputs": [],
   "source": [
    "# Model is the full model w/o custom layers\n",
    "model.compile(optimizer=tf.keras.optimizers.Adam(learning_rate),  # Optimization\n",
    "              loss='sparse_categorical_crossentropy',  # Loss Function \n",
    "              metrics=['accuracy'])  # Metrics / Accuracy"
   ]
  },
  {
   "cell_type": "markdown",
   "metadata": {},
   "source": [
    "# **Data Preprocess**"
   ]
  },
  {
   "cell_type": "code",
   "execution_count": 5,
   "metadata": {},
   "outputs": [],
   "source": [
    "train_paths = glob('D:/dataset/cifar/train/*.png')[:1000]\n",
    "test_paths = glob('D:/dataset/cifar/test/*.png')[:1000]"
   ]
  },
  {
   "cell_type": "code",
   "execution_count": 6,
   "metadata": {},
   "outputs": [],
   "source": [
    "def get_class_name(path):\n",
    "    return path.split('_')[-1].replace('.png', '')"
   ]
  },
  {
   "cell_type": "code",
   "execution_count": 7,
   "metadata": {},
   "outputs": [],
   "source": [
    "train_labels = [get_class_name(path) for path in train_paths]\n",
    "class_names = np.unique(train_labels)"
   ]
  },
  {
   "cell_type": "code",
   "execution_count": 8,
   "metadata": {},
   "outputs": [],
   "source": [
    "def get_label(path):\n",
    "    fname = tf.strings.split(path, '_')[-1]\n",
    "    lbl_name = tf.strings.regex_replace(fname, '.png', '')\n",
    "    onehot = tf.cast(lbl_name == class_names, tf.uint8)\n",
    "    return tf.argmax(onehot)  # 이번에는 onehot이 아닌 label 번호로"
   ]
  },
  {
   "cell_type": "code",
   "execution_count": 9,
   "metadata": {},
   "outputs": [],
   "source": [
    "def load_image_label(path):\n",
    "    gfile = tf.io.read_file(path)\n",
    "    image = tf.io.decode_image(gfile)\n",
    "    image = tf.cast(image, tf.float32) / 255.  # rescale\n",
    "    \n",
    "    label = get_label(path)\n",
    "    return image, label"
   ]
  },
  {
   "cell_type": "code",
   "execution_count": 10,
   "metadata": {},
   "outputs": [],
   "source": [
    "def image_preprocess(image, label):\n",
    "    image = tf.image.random_flip_up_down(image)\n",
    "    image = tf.image.random_flip_left_right(image)\n",
    "    return image, label"
   ]
  },
  {
   "cell_type": "code",
   "execution_count": 11,
   "metadata": {},
   "outputs": [],
   "source": [
    "AUTOTUNE = tf.data.experimental.AUTOTUNE"
   ]
  },
  {
   "cell_type": "code",
   "execution_count": 12,
   "metadata": {},
   "outputs": [],
   "source": [
    "train_dataset = tf.data.Dataset.from_tensor_slices(train_paths)\n",
    "train_dataset = train_dataset.map(load_image_label, num_parallel_calls=AUTOTUNE)\n",
    "train_dataset = train_dataset.map(image_preprocess, num_parallel_calls=AUTOTUNE)\n",
    "train_dataset = train_dataset.batch(batch_size)\n",
    "train_dataset = train_dataset.shuffle(buffer_size=len(train_paths))\n",
    "train_dataset = train_dataset.repeat()"
   ]
  },
  {
   "cell_type": "code",
   "execution_count": 13,
   "metadata": {},
   "outputs": [],
   "source": [
    "test_dataset = tf.data.Dataset.from_tensor_slices(test_paths)\n",
    "test_dataset = test_dataset.map(load_image_label, num_parallel_calls=AUTOTUNE)\n",
    "test_dataset = test_dataset.batch(batch_size)\n",
    "test_dataset = test_dataset.repeat()"
   ]
  },
  {
   "cell_type": "markdown",
   "metadata": {},
   "source": [
    "# **Checkpoint**"
   ]
  },
  {
   "cell_type": "code",
   "execution_count": 14,
   "metadata": {},
   "outputs": [
    {
     "name": "stdout",
     "output_type": "stream",
     "text": [
      "WARNING:tensorflow:From <ipython-input-14-2bcdb6787ac1>:5: Model.fit_generator (from tensorflow.python.keras.engine.training) is deprecated and will be removed in a future version.\n",
      "Instructions for updating:\n",
      "Please use Model.fit, which supports generators.\n",
      "Epoch 1/50\n",
      "31/31 [==============================] - 4s 116ms/step - loss: 2.3136 - accuracy: 0.1219 - val_loss: 2.2988 - val_accuracy: 0.0988\n",
      "Epoch 2/50\n",
      "31/31 [==============================] - 3s 113ms/step - loss: 2.2592 - accuracy: 0.1498 - val_loss: 2.1812 - val_accuracy: 0.1815\n",
      "Epoch 3/50\n",
      "31/31 [==============================] - 4s 120ms/step - loss: 2.1783 - accuracy: 0.1653 - val_loss: 2.1997 - val_accuracy: 0.1522\n",
      "Epoch 4/50\n",
      "31/31 [==============================] - 3s 108ms/step - loss: 2.1894 - accuracy: 0.1860 - val_loss: 2.1656 - val_accuracy: 0.1996\n",
      "Epoch 5/50\n",
      "31/31 [==============================] - 3s 107ms/step - loss: 2.0895 - accuracy: 0.2087 - val_loss: 2.0383 - val_accuracy: 0.2379\n",
      "Epoch 6/50\n",
      "31/31 [==============================] - 3s 107ms/step - loss: 2.0490 - accuracy: 0.2376 - val_loss: 2.0541 - val_accuracy: 0.2339\n",
      "Epoch 7/50\n",
      "31/31 [==============================] - 4s 117ms/step - loss: 1.9732 - accuracy: 0.2603 - val_loss: 2.0361 - val_accuracy: 0.2359\n",
      "Epoch 8/50\n",
      "31/31 [==============================] - 4s 120ms/step - loss: 1.9670 - accuracy: 0.2872 - val_loss: 2.0133 - val_accuracy: 0.2460\n",
      "Epoch 9/50\n",
      "31/31 [==============================] - 4s 120ms/step - loss: 1.8795 - accuracy: 0.3048 - val_loss: 1.8883 - val_accuracy: 0.2792\n",
      "Epoch 10/50\n",
      "31/31 [==============================] - 4s 119ms/step - loss: 1.8847 - accuracy: 0.3006 - val_loss: 1.8696 - val_accuracy: 0.3004\n",
      "Epoch 11/50\n",
      "31/31 [==============================] - 4s 128ms/step - loss: 1.8582 - accuracy: 0.3048 - val_loss: 1.8112 - val_accuracy: 0.3306\n",
      "Epoch 12/50\n",
      "31/31 [==============================] - 4s 128ms/step - loss: 1.7892 - accuracy: 0.3481 - val_loss: 1.8083 - val_accuracy: 0.3296\n",
      "Epoch 13/50\n",
      "31/31 [==============================] - 4s 124ms/step - loss: 1.7348 - accuracy: 0.3512 - val_loss: 1.8024 - val_accuracy: 0.3589\n",
      "Epoch 14/50\n",
      "31/31 [==============================] - 4s 122ms/step - loss: 1.7625 - accuracy: 0.3719 - val_loss: 1.9121 - val_accuracy: 0.3065\n",
      "Epoch 15/50\n",
      "31/31 [==============================] - 4s 122ms/step - loss: 1.7357 - accuracy: 0.3688 - val_loss: 1.8494 - val_accuracy: 0.3256\n",
      "Epoch 16/50\n",
      "31/31 [==============================] - 4s 122ms/step - loss: 1.6718 - accuracy: 0.3871 - val_loss: 1.7357 - val_accuracy: 0.3780\n",
      "Epoch 17/50\n",
      "31/31 [==============================] - 4s 122ms/step - loss: 1.7115 - accuracy: 0.3760 - val_loss: 1.7199 - val_accuracy: 0.3800\n",
      "Epoch 18/50\n",
      "31/31 [==============================] - 4s 118ms/step - loss: 1.6421 - accuracy: 0.3977 - val_loss: 1.7124 - val_accuracy: 0.3679\n",
      "Epoch 19/50\n",
      "31/31 [==============================] - 4s 118ms/step - loss: 1.6409 - accuracy: 0.3946 - val_loss: 1.7275 - val_accuracy: 0.3649\n",
      "Epoch 20/50\n",
      "31/31 [==============================] - 4s 119ms/step - loss: 1.6107 - accuracy: 0.4101 - val_loss: 1.6731 - val_accuracy: 0.4002\n",
      "Epoch 21/50\n",
      "31/31 [==============================] - 4s 117ms/step - loss: 1.5480 - accuracy: 0.4060 - val_loss: 1.6791 - val_accuracy: 0.3851\n",
      "Epoch 22/50\n",
      "31/31 [==============================] - 4s 116ms/step - loss: 1.6005 - accuracy: 0.4206 - val_loss: 1.6715 - val_accuracy: 0.4002\n",
      "Epoch 23/50\n",
      "31/31 [==============================] - 4s 120ms/step - loss: 1.4877 - accuracy: 0.4546 - val_loss: 1.6821 - val_accuracy: 0.4123\n",
      "Epoch 24/50\n",
      "31/31 [==============================] - 4s 122ms/step - loss: 1.5259 - accuracy: 0.4308 - val_loss: 1.6583 - val_accuracy: 0.3710\n",
      "Epoch 25/50\n",
      "31/31 [==============================] - 4s 121ms/step - loss: 1.5221 - accuracy: 0.4287 - val_loss: 1.6554 - val_accuracy: 0.3931\n",
      "Epoch 26/50\n",
      "31/31 [==============================] - 4s 121ms/step - loss: 1.5056 - accuracy: 0.4514 - val_loss: 1.6681 - val_accuracy: 0.4113\n",
      "Epoch 27/50\n",
      "31/31 [==============================] - 4s 123ms/step - loss: 1.4369 - accuracy: 0.4804 - val_loss: 1.6800 - val_accuracy: 0.3800\n",
      "Epoch 28/50\n",
      "31/31 [==============================] - 4s 119ms/step - loss: 1.5051 - accuracy: 0.4628 - val_loss: 1.6328 - val_accuracy: 0.4264\n",
      "Epoch 29/50\n",
      "31/31 [==============================] - 4s 117ms/step - loss: 1.4214 - accuracy: 0.4804 - val_loss: 1.6061 - val_accuracy: 0.4385\n",
      "Epoch 30/50\n",
      "31/31 [==============================] - 3s 111ms/step - loss: 1.3835 - accuracy: 0.4959 - val_loss: 1.6499 - val_accuracy: 0.4254\n",
      "Epoch 31/50\n",
      "31/31 [==============================] - 3s 108ms/step - loss: 1.3477 - accuracy: 0.5072 - val_loss: 1.6939 - val_accuracy: 0.4083\n",
      "Epoch 32/50\n",
      "31/31 [==============================] - 3s 111ms/step - loss: 1.3932 - accuracy: 0.5041 - val_loss: 1.7069 - val_accuracy: 0.3931\n",
      "Epoch 33/50\n",
      "31/31 [==============================] - 3s 111ms/step - loss: 1.3086 - accuracy: 0.5258 - val_loss: 1.6387 - val_accuracy: 0.4325\n",
      "Epoch 34/50\n",
      "31/31 [==============================] - 3s 108ms/step - loss: 1.3378 - accuracy: 0.5155 - val_loss: 1.5989 - val_accuracy: 0.4224\n",
      "Epoch 35/50\n",
      "31/31 [==============================] - 3s 109ms/step - loss: 1.3094 - accuracy: 0.5465 - val_loss: 1.6173 - val_accuracy: 0.4385\n",
      "Epoch 36/50\n",
      "31/31 [==============================] - 4s 115ms/step - loss: 1.3254 - accuracy: 0.5258 - val_loss: 1.6332 - val_accuracy: 0.4466\n",
      "Epoch 37/50\n",
      "31/31 [==============================] - 4s 120ms/step - loss: 1.2433 - accuracy: 0.5635 - val_loss: 1.5546 - val_accuracy: 0.4577\n",
      "Epoch 38/50\n",
      "31/31 [==============================] - 3s 109ms/step - loss: 1.2041 - accuracy: 0.5593 - val_loss: 1.5799 - val_accuracy: 0.4415\n",
      "Epoch 39/50\n",
      "31/31 [==============================] - 4s 115ms/step - loss: 1.2581 - accuracy: 0.5403 - val_loss: 1.7114 - val_accuracy: 0.4204\n",
      "Epoch 40/50\n",
      "31/31 [==============================] - 3s 109ms/step - loss: 1.1419 - accuracy: 0.5589 - val_loss: 1.6527 - val_accuracy: 0.4446\n",
      "Epoch 41/50\n",
      "31/31 [==============================] - 3s 107ms/step - loss: 1.1804 - accuracy: 0.5699 - val_loss: 1.6600 - val_accuracy: 0.4415\n",
      "Epoch 42/50\n",
      "31/31 [==============================] - 3s 107ms/step - loss: 1.1477 - accuracy: 0.5919 - val_loss: 1.7513 - val_accuracy: 0.4284\n",
      "Epoch 43/50\n",
      "31/31 [==============================] - 3s 112ms/step - loss: 1.1324 - accuracy: 0.5888 - val_loss: 1.7527 - val_accuracy: 0.4456\n",
      "Epoch 44/50\n",
      "31/31 [==============================] - 3s 107ms/step - loss: 1.1096 - accuracy: 0.6126 - val_loss: 1.6829 - val_accuracy: 0.4466\n",
      "Epoch 45/50\n",
      "31/31 [==============================] - 4s 116ms/step - loss: 1.1330 - accuracy: 0.5651 - val_loss: 1.5929 - val_accuracy: 0.4496\n",
      "Epoch 46/50\n",
      "31/31 [==============================] - 3s 112ms/step - loss: 1.1937 - accuracy: 0.5746 - val_loss: 1.5860 - val_accuracy: 0.4526\n",
      "Epoch 47/50\n",
      "31/31 [==============================] - 4s 113ms/step - loss: 1.0486 - accuracy: 0.6239 - val_loss: 1.8182 - val_accuracy: 0.4496\n",
      "Epoch 48/50\n",
      "31/31 [==============================] - 3s 112ms/step - loss: 1.1197 - accuracy: 0.6018 - val_loss: 1.6960 - val_accuracy: 0.4587\n",
      "Epoch 49/50\n",
      "31/31 [==============================] - 3s 107ms/step - loss: 1.0399 - accuracy: 0.6312 - val_loss: 1.7155 - val_accuracy: 0.4466\n",
      "Epoch 50/50\n",
      "31/31 [==============================] - 3s 111ms/step - loss: 1.0564 - accuracy: 0.6229 - val_loss: 1.6217 - val_accuracy: 0.4526\n"
     ]
    }
   ],
   "source": [
    "steps_per_epoch = len(train_paths) // batch_size\n",
    "validation_steps = len(test_paths) // batch_size\n",
    "\n",
    "#history 하기전에 모델에 변수로 저장해야한다.\n",
    "history = model.fit_generator(\n",
    "    train_dataset,\n",
    "    steps_per_epoch=steps_per_epoch,\n",
    "    validation_data=test_dataset,\n",
    "    validation_steps=validation_steps,\n",
    "    epochs=num_epochs\n",
    ")"
   ]
  },
  {
   "cell_type": "markdown",
   "metadata": {},
   "source": [
    "# **Saving Model**"
   ]
  },
  {
   "cell_type": "code",
   "execution_count": 15,
   "metadata": {},
   "outputs": [],
   "source": [
    "save_path = 'my_model.h5'"
   ]
  },
  {
   "cell_type": "code",
   "execution_count": 16,
   "metadata": {},
   "outputs": [],
   "source": [
    "model.save(save_path, include_optimizer=True)\n",
    "#include_optimizer = True를 주면 오티마이져까지 모델을 저장 시킨다. "
   ]
  },
  {
   "cell_type": "code",
   "execution_count": 17,
   "metadata": {},
   "outputs": [],
   "source": [
    "model = tf.keras.models.load_model('my_model.h5') # 모델 불러오기"
   ]
  },
  {
   "cell_type": "markdown",
   "metadata": {},
   "source": [
    "# **Save Model -  2**\n",
    "weight 값만 저징하기"
   ]
  },
  {
   "cell_type": "code",
   "execution_count": 18,
   "metadata": {},
   "outputs": [],
   "source": [
    "model.save_weights('model_weights.h5')"
   ]
  },
  {
   "cell_type": "code",
   "execution_count": 20,
   "metadata": {},
   "outputs": [],
   "source": [
    "# json 형태로 불러오기\n",
    "with open('model_architechure.json', 'w') as f:\n",
    "    f.write(model.to_json())"
   ]
  },
  {
   "cell_type": "code",
   "execution_count": 21,
   "metadata": {},
   "outputs": [],
   "source": [
    "model.load_weights('model_weights.h5')\n"
   ]
  },
  {
   "cell_type": "markdown",
   "metadata": {},
   "source": [
    "model.load_weight('checkpoins')이런 식으로 \n",
    "checkpoint가 담긴 폴더를 지정해주시면 checkpoint도 불러올 수 있습니다."
   ]
  },
  {
   "cell_type": "markdown",
   "metadata": {},
   "source": [
    "# H5 모델 들여다 보기"
   ]
  },
  {
   "cell_type": "code",
   "execution_count": 22,
   "metadata": {},
   "outputs": [],
   "source": [
    "import h5py"
   ]
  },
  {
   "cell_type": "code",
   "execution_count": 23,
   "metadata": {},
   "outputs": [],
   "source": [
    "model_file = h5py.File('my_model.h5', 'r+')"
   ]
  },
  {
   "cell_type": "code",
   "execution_count": 24,
   "metadata": {},
   "outputs": [
    {
     "data": {
      "text/plain": [
       "<KeysViewHDF5 ['model_weights', 'optimizer_weights']>"
      ]
     },
     "execution_count": 24,
     "metadata": {},
     "output_type": "execute_result"
    }
   ],
   "source": [
    "model_file.keys()"
   ]
  },
  {
   "cell_type": "code",
   "execution_count": 25,
   "metadata": {},
   "outputs": [
    {
     "data": {
      "text/plain": [
       "<KeysViewHDF5 ['activation', 'activation_1', 'activation_2', 'activation_3', 'activation_4', 'activation_5', 'conv2d', 'conv2d_1', 'conv2d_2', 'conv2d_3', 'dense', 'dense_1', 'dropout', 'dropout_1', 'dropout_2', 'flatten', 'input_1', 'max_pooling2d', 'max_pooling2d_1']>"
      ]
     },
     "execution_count": 25,
     "metadata": {},
     "output_type": "execute_result"
    }
   ],
   "source": [
    "model_file['model_weights'].keys()"
   ]
  },
  {
   "cell_type": "code",
   "execution_count": 28,
   "metadata": {},
   "outputs": [
    {
     "data": {
      "text/plain": [
       "<KeysViewHDF5 ['bias:0', 'kernel:0']>"
      ]
     },
     "execution_count": 28,
     "metadata": {},
     "output_type": "execute_result"
    }
   ],
   "source": [
    "model_file['model_weights']['conv2d']['conv2d'].keys()"
   ]
  },
  {
   "cell_type": "code",
   "execution_count": null,
   "metadata": {},
   "outputs": [],
   "source": [
    "model_file['model_weights']['conv2d']['conv2d']['k']"
   ]
  }
 ],
 "metadata": {
  "kernelspec": {
   "display_name": "Python 3",
   "language": "python",
   "name": "python3"
  },
  "language_info": {
   "codemirror_mode": {
    "name": "ipython",
    "version": 3
   },
   "file_extension": ".py",
   "mimetype": "text/x-python",
   "name": "python",
   "nbconvert_exporter": "python",
   "pygments_lexer": "ipython3",
   "version": "3.8.5"
  }
 },
 "nbformat": 4,
 "nbformat_minor": 4
}
