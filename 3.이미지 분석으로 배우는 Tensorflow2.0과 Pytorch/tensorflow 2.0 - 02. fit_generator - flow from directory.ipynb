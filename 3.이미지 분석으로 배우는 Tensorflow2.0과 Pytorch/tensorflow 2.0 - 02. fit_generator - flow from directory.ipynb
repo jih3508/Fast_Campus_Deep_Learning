{
 "cells": [
  {
   "cell_type": "markdown",
   "metadata": {},
   "source": [
    "https://keras.io/preprocessing/image/\n",
    "# **TensorFlow 2.0**"
   ]
  },
  {
   "cell_type": "code",
   "execution_count": 1,
   "metadata": {},
   "outputs": [],
   "source": [
    "import os\n",
    "from glob import glob\n",
    "\n",
    "import tensorflow as tf\n",
    "from tensorflow.keras import layers\n",
    "\n",
    "from tensorflow.keras import datasets\n",
    "from tensorflow.keras.preprocessing.image import ImageDataGenerator\n",
    "\n"
   ]
  },
  {
   "cell_type": "code",
   "execution_count": 2,
   "metadata": {},
   "outputs": [
    {
     "data": {
      "text/plain": [
       "['0', '1', '2', '3', '4', '5', '6', '7', '8', '9']"
      ]
     },
     "execution_count": 2,
     "metadata": {},
     "output_type": "execute_result"
    }
   ],
   "source": [
    "os.listdir('E:\\\\dataset\\\\mnist_png\\\\training')"
   ]
  },
  {
   "cell_type": "code",
   "execution_count": 3,
   "metadata": {},
   "outputs": [],
   "source": [
    "train_dir = 'E:\\\\dataset\\\\mnist_png\\\\training'\n",
    "test_dir = 'E:\\\\dataset\\\\mnist_png\\\\testing'"
   ]
  },
  {
   "cell_type": "markdown",
   "metadata": {},
   "source": [
    "# **Hyperparameter Tunning**"
   ]
  },
  {
   "cell_type": "code",
   "execution_count": 4,
   "metadata": {},
   "outputs": [],
   "source": [
    "num_epochs = 10\n",
    "batch_size = 10\n",
    "\n",
    "learning_rate = 0.001\n",
    "\n",
    "dropout_rate = 0.7\n",
    "\n",
    "input_shape = (28, 28, 1)\n",
    "num_classes = 10"
   ]
  },
  {
   "cell_type": "markdown",
   "metadata": {},
   "source": [
    "# **Preprocess**"
   ]
  },
  {
   "cell_type": "code",
   "execution_count": 5,
   "metadata": {},
   "outputs": [],
   "source": [
    "train_datagen = ImageDataGenerator(\n",
    "    rescale = 1./255.,\n",
    "    width_shift_range = 0.3,\n",
    "    zoom_range = 0.2,\n",
    "    horizontal_flip=True\n",
    ")\n",
    "test_datagen = ImageDataGenerator(\n",
    "    rescale=1./255.\n",
    ")"
   ]
  },
  {
   "cell_type": "code",
   "execution_count": 6,
   "metadata": {},
   "outputs": [
    {
     "name": "stdout",
     "output_type": "stream",
     "text": [
      "Found 60000 images belonging to 10 classes.\n"
     ]
    }
   ],
   "source": [
    "train_generator = train_datagen.flow_from_directory(\n",
    "    train_dir,\n",
    "    target_size = input_shape[:2],\n",
    "    batch_size =batch_size,\n",
    "    color_mode = 'grayscale',\n",
    "    class_mode = 'categorical'\n",
    ")"
   ]
  },
  {
   "cell_type": "code",
   "execution_count": 7,
   "metadata": {},
   "outputs": [
    {
     "name": "stdout",
     "output_type": "stream",
     "text": [
      "Found 10000 images belonging to 10 classes.\n"
     ]
    }
   ],
   "source": [
    "validation_generator = train_datagen.flow_from_directory(\n",
    "    test_dir,\n",
    "    target_size = input_shape[:2],\n",
    "    batch_size = batch_size,\n",
    "    color_mode = 'grayscale',\n",
    "    class_mode = 'categorical'\n",
    ")"
   ]
  },
  {
   "cell_type": "markdown",
   "metadata": {},
   "source": [
    "# **Build Model**"
   ]
  },
  {
   "cell_type": "code",
   "execution_count": 8,
   "metadata": {},
   "outputs": [],
   "source": [
    "inputs = layers.Input(input_shape)\n",
    "net = layers.Conv2D(32, (3, 3), padding= 'SAME')(inputs)\n",
    "net = layers.Activation('relu')(net)\n",
    "net = layers.Conv2D(32, (3, 3), padding='SAME')(net)\n",
    "net = layers.Activation('relu')(net)\n",
    "net = layers.MaxPooling2D(pool_size = (2, 2))(net)\n",
    "net = layers.Dropout(dropout_rate)(net)\n",
    "\n",
    "net = layers.Conv2D(64, (3, 3), padding='SAME')(net)\n",
    "net = layers.Activation('relu')(net)\n",
    "net = layers.Conv2D(64, (3, 3), padding = 'SAME')(net)\n",
    "net = layers.Activation('relu')(net)\n",
    "net = layers.MaxPooling2D(pool_size = (2, 2))(net)\n",
    "net = layers.Dropout(dropout_rate)(net)\n",
    "\n",
    "net = layers.Flatten()(net)\n",
    "net = layers.Dense(512)(net)\n",
    "net = layers.Activation('relu')(net)\n",
    "net = layers.Dropout(dropout_rate)(net)\n",
    "net = layers.Dense(num_classes)(net)\n",
    "net = layers.Activation('softmax')(net)\n",
    "\n",
    "model = tf.keras.Model(inputs= inputs, outputs=net, name='Basic_CNN')\n"
   ]
  },
  {
   "cell_type": "code",
   "execution_count": 9,
   "metadata": {},
   "outputs": [],
   "source": [
    "# Mode is the full model w/o custom layers\n",
    "model.compile(optimizer = tf.keras.optimizers.Adam(learning_rate), # Optimization\n",
    "              loss = 'categorical_crossentropy' ,# Loss Function\n",
    "              metrics = ['accuracy'] )# Metrics / Accuracy\n"
   ]
  },
  {
   "cell_type": "markdown",
   "metadata": {},
   "source": [
    "## **Training**\n",
    "**공부하다가 GPU RAM 사양이 안되서 실행 불가능 하는 에러 메세지 나오는데, Batch_size를 줄이면된다. Batch_size를 줄이면 속도는 느리다는 점을 감안 해야한다.**"
   ]
  },
  {
   "cell_type": "code",
   "execution_count": 10,
   "metadata": {},
   "outputs": [
    {
     "name": "stdout",
     "output_type": "stream",
     "text": [
      "WARNING:tensorflow:From <ipython-input-10-b0be9127a641>:1: Model.fit_generator (from tensorflow.python.keras.engine.training) is deprecated and will be removed in a future version.\n",
      "Instructions for updating:\n",
      "Please use Model.fit, which supports generators.\n",
      "Epoch 1/10\n",
      "6000/6000 [==============================] - 138s 23ms/step - loss: 0.8657 - accuracy: 0.7060 - val_loss: 0.6261 - val_accuracy: 0.7859\n",
      "Epoch 2/10\n",
      "6000/6000 [==============================] - 65s 11ms/step - loss: 0.6276 - accuracy: 0.7930 - val_loss: 0.4565 - val_accuracy: 0.8500\n",
      "Epoch 3/10\n",
      "6000/6000 [==============================] - 78s 13ms/step - loss: 0.5481 - accuracy: 0.8232 - val_loss: 0.3466 - val_accuracy: 0.8868\n",
      "Epoch 4/10\n",
      "6000/6000 [==============================] - 76s 13ms/step - loss: 0.5058 - accuracy: 0.8381 - val_loss: 0.2821 - val_accuracy: 0.9101\n",
      "Epoch 5/10\n",
      "6000/6000 [==============================] - 69s 12ms/step - loss: 0.4743 - accuracy: 0.8495 - val_loss: 0.2358 - val_accuracy: 0.9277\n",
      "Epoch 6/10\n",
      "6000/6000 [==============================] - 71s 12ms/step - loss: 0.4571 - accuracy: 0.8575 - val_loss: 0.2095 - val_accuracy: 0.9335\n",
      "Epoch 7/10\n",
      "6000/6000 [==============================] - 135s 22ms/step - loss: 0.4509 - accuracy: 0.8612 - val_loss: 0.2006 - val_accuracy: 0.9368\n",
      "Epoch 8/10\n",
      "6000/6000 [==============================] - 149s 25ms/step - loss: 0.4407 - accuracy: 0.8657 - val_loss: 0.1775 - val_accuracy: 0.9447\n",
      "Epoch 9/10\n",
      "6000/6000 [==============================] - 132s 22ms/step - loss: 0.4260 - accuracy: 0.8697 - val_loss: 0.1793 - val_accuracy: 0.9432\n",
      "Epoch 10/10\n",
      "6000/6000 [==============================] - 130s 22ms/step - loss: 0.4221 - accuracy: 0.8739 - val_loss: 0.1522 - val_accuracy: 0.9523\n"
     ]
    },
    {
     "data": {
      "text/plain": [
       "<tensorflow.python.keras.callbacks.History at 0x1f13487df10>"
      ]
     },
     "execution_count": 10,
     "metadata": {},
     "output_type": "execute_result"
    }
   ],
   "source": [
    "model.fit_generator(\n",
    "        train_generator,\n",
    "        steps_per_epoch=len(train_generator),\n",
    "        epochs=num_epochs,\n",
    "        validation_data=validation_generator,\n",
    "        validation_steps=len(validation_generator))"
   ]
  },
  {
   "cell_type": "code",
   "execution_count": null,
   "metadata": {},
   "outputs": [],
   "source": []
  }
 ],
 "metadata": {
  "kernelspec": {
   "display_name": "Python 3",
   "language": "python",
   "name": "python3"
  },
  "language_info": {
   "codemirror_mode": {
    "name": "ipython",
    "version": 3
   },
   "file_extension": ".py",
   "mimetype": "text/x-python",
   "name": "python",
   "nbconvert_exporter": "python",
   "pygments_lexer": "ipython3",
   "version": "3.8.3"
  }
 },
 "nbformat": 4,
 "nbformat_minor": 4
}
