{
 "cells": [
  {
   "cell_type": "markdown",
   "metadata": {},
   "source": [
    "# TensorFlow 2.0"
   ]
  },
  {
   "cell_type": "code",
   "execution_count": 1,
   "metadata": {},
   "outputs": [],
   "source": [
    "import os\n",
    "from glob import glob\n",
    "from datetime import datetime\n",
    "\n",
    "import numpy as np\n",
    "\n",
    "import tensorflow as tf\n",
    "from tensorflow.keras import layers\n",
    "\n",
    "from tensorflow.keras import datasets \n",
    "\n",
    "import matplotlib.pyplot as plt\n",
    "\n",
    "%matplotlib inline"
   ]
  },
  {
   "cell_type": "markdown",
   "metadata": {},
   "source": [
    "# **Hyperparameter Tunning**"
   ]
  },
  {
   "cell_type": "code",
   "execution_count": 2,
   "metadata": {},
   "outputs": [],
   "source": [
    "num_epochs = 50\n",
    "batch_size = 32\n",
    "\n",
    "learning_rate = 0.001\n",
    "\n",
    "dropout_rate = 0.5\n",
    "\n",
    "input_shape = (32, 32, 3)\n",
    "num_classes = 10"
   ]
  },
  {
   "cell_type": "markdown",
   "metadata": {},
   "source": [
    "# **Build Model**"
   ]
  },
  {
   "cell_type": "code",
   "execution_count": 3,
   "metadata": {},
   "outputs": [],
   "source": [
    "inputs = layers.Input(input_shape)\n",
    "\n",
    "net = layers.Conv2D(32, (3, 3), padding='SAME')(inputs)\n",
    "net = layers.Activation('relu')(net)\n",
    "net = layers.Conv2D(32, (3, 3), padding='SAME')(net)\n",
    "net = layers.Activation('relu')(net)\n",
    "net = layers.MaxPooling2D(pool_size=(2, 2))(net)\n",
    "net = layers.Dropout(dropout_rate)(net)\n",
    "\n",
    "net = layers.Conv2D(64, (3, 3), padding='SAME')(net)\n",
    "net = layers.Activation('relu')(net)\n",
    "net = layers.Conv2D(64, (3, 3), padding='SAME')(net)\n",
    "net = layers.Activation('relu')(net)\n",
    "net = layers.MaxPooling2D(pool_size=(2, 2))(net)\n",
    "net = layers.Dropout(dropout_rate)(net)\n",
    "\n",
    "net = layers.Flatten()(net)\n",
    "net = layers.Dense(512)(net)\n",
    "net = layers.Activation('relu')(net)\n",
    "net = layers.Dropout(dropout_rate)(net)\n",
    "net = layers.Dense(num_classes)(net)\n",
    "net = layers.Activation('softmax')(net)\n",
    "\n",
    "model = tf.keras.Model(inputs=inputs, outputs=net, name='Basic_CNN')"
   ]
  },
  {
   "cell_type": "code",
   "execution_count": 4,
   "metadata": {},
   "outputs": [],
   "source": [
    "# Model is the full model w/o custom layers\n",
    "model.compile(optimizer=tf.keras.optimizers.Adam(learning_rate),  # Optimization\n",
    "              loss='sparse_categorical_crossentropy',  # Loss Function \n",
    "              metrics=['accuracy'])  # Metrics / Accuracy"
   ]
  },
  {
   "cell_type": "markdown",
   "metadata": {},
   "source": [
    "# **Data Preprocess**"
   ]
  },
  {
   "cell_type": "code",
   "execution_count": 5,
   "metadata": {},
   "outputs": [],
   "source": [
    "train_paths = glob('D:/dataset/cifar/train/*.png')[:1000]\n",
    "test_paths = glob('D:/dataset/cifar/test/*.png')[:1000]"
   ]
  },
  {
   "cell_type": "code",
   "execution_count": 6,
   "metadata": {},
   "outputs": [],
   "source": [
    "def get_class_name(path):\n",
    "    return path.split('_')[-1].replace('.png', '')"
   ]
  },
  {
   "cell_type": "code",
   "execution_count": 7,
   "metadata": {},
   "outputs": [],
   "source": [
    "train_labels = [get_class_name(path) for path in train_paths]\n",
    "class_names = np.unique(train_labels)"
   ]
  },
  {
   "cell_type": "code",
   "execution_count": 8,
   "metadata": {},
   "outputs": [],
   "source": [
    "def get_label(path):\n",
    "    fname = tf.strings.split(path, '_')[-1]\n",
    "    lbl_name = tf.strings.regex_replace(fname, '.png', '')\n",
    "    onehot = tf.cast(lbl_name == class_names, tf.uint8)\n",
    "    return tf.argmax(onehot)  # 이번에는 onehot이 아닌 label 번호로"
   ]
  },
  {
   "cell_type": "code",
   "execution_count": 9,
   "metadata": {},
   "outputs": [],
   "source": [
    "def load_image_label(path):\n",
    "    gfile = tf.io.read_file(path)\n",
    "    image = tf.io.decode_image(gfile)\n",
    "    image = tf.cast(image, tf.float32) / 255.  # rescale\n",
    "    \n",
    "    label = get_label(path)\n",
    "    return image, label"
   ]
  },
  {
   "cell_type": "code",
   "execution_count": 10,
   "metadata": {},
   "outputs": [],
   "source": [
    "def image_preprocess(image, label):\n",
    "    image = tf.image.random_flip_up_down(image)\n",
    "    image = tf.image.random_flip_left_right(image)\n",
    "    return image, label"
   ]
  },
  {
   "cell_type": "code",
   "execution_count": 11,
   "metadata": {},
   "outputs": [],
   "source": [
    "AUTOTUNE = tf.data.experimental.AUTOTUNE"
   ]
  },
  {
   "cell_type": "code",
   "execution_count": 12,
   "metadata": {},
   "outputs": [],
   "source": [
    "train_dataset = tf.data.Dataset.from_tensor_slices(train_paths)\n",
    "train_dataset = train_dataset.map(load_image_label, num_parallel_calls=AUTOTUNE)\n",
    "train_dataset = train_dataset.map(image_preprocess, num_parallel_calls=AUTOTUNE)\n",
    "train_dataset = train_dataset.batch(batch_size)\n",
    "train_dataset = train_dataset.shuffle(buffer_size=len(train_paths))\n",
    "train_dataset = train_dataset.repeat()"
   ]
  },
  {
   "cell_type": "code",
   "execution_count": 13,
   "metadata": {},
   "outputs": [],
   "source": [
    "test_dataset = tf.data.Dataset.from_tensor_slices(test_paths)\n",
    "test_dataset = test_dataset.map(load_image_label, num_parallel_calls=AUTOTUNE)\n",
    "test_dataset = test_dataset.batch(batch_size)\n",
    "test_dataset = test_dataset.repeat()"
   ]
  },
  {
   "cell_type": "markdown",
   "metadata": {},
   "source": [
    "# **Checkpoint**"
   ]
  },
  {
   "cell_type": "code",
   "execution_count": 14,
   "metadata": {},
   "outputs": [
    {
     "name": "stdout",
     "output_type": "stream",
     "text": [
      "WARNING:tensorflow:From <ipython-input-14-2bcdb6787ac1>:5: Model.fit_generator (from tensorflow.python.keras.engine.training) is deprecated and will be removed in a future version.\n",
      "Instructions for updating:\n",
      "Please use Model.fit, which supports generators.\n",
      "Epoch 1/50\n",
      "31/31 [==============================] - 4s 118ms/step - loss: 2.3188 - accuracy: 0.0981 - val_loss: 2.2993 - val_accuracy: 0.0958\n",
      "Epoch 2/50\n",
      "31/31 [==============================] - 3s 105ms/step - loss: 2.2981 - accuracy: 0.1240 - val_loss: 2.2982 - val_accuracy: 0.1048\n",
      "Epoch 3/50\n",
      "31/31 [==============================] - 3s 111ms/step - loss: 2.2600 - accuracy: 0.1529 - val_loss: 2.2254 - val_accuracy: 0.1431\n",
      "Epoch 4/50\n",
      "31/31 [==============================] - 4s 114ms/step - loss: 2.2342 - accuracy: 0.1539 - val_loss: 2.2247 - val_accuracy: 0.1502\n",
      "Epoch 5/50\n",
      "31/31 [==============================] - 4s 118ms/step - loss: 2.1677 - accuracy: 0.2035 - val_loss: 2.1118 - val_accuracy: 0.2198\n",
      "Epoch 6/50\n",
      "31/31 [==============================] - 3s 105ms/step - loss: 2.0904 - accuracy: 0.2252 - val_loss: 2.0243 - val_accuracy: 0.2278\n",
      "Epoch 7/50\n",
      "31/31 [==============================] - 3s 111ms/step - loss: 2.0394 - accuracy: 0.2510 - val_loss: 2.0576 - val_accuracy: 0.2319\n",
      "Epoch 8/50\n",
      "31/31 [==============================] - 4s 114ms/step - loss: 2.0072 - accuracy: 0.2448 - val_loss: 1.9627 - val_accuracy: 0.2621\n",
      "Epoch 9/50\n",
      "31/31 [==============================] - 4s 114ms/step - loss: 2.0197 - accuracy: 0.2552 - val_loss: 1.9374 - val_accuracy: 0.2742\n",
      "Epoch 10/50\n",
      "31/31 [==============================] - 3s 108ms/step - loss: 1.9550 - accuracy: 0.2655 - val_loss: 1.9340 - val_accuracy: 0.2571\n",
      "Epoch 11/50\n",
      "31/31 [==============================] - 3s 109ms/step - loss: 1.8935 - accuracy: 0.2772 - val_loss: 1.8926 - val_accuracy: 0.3004\n",
      "Epoch 12/50\n",
      "31/31 [==============================] - 3s 107ms/step - loss: 1.8279 - accuracy: 0.3264 - val_loss: 1.8619 - val_accuracy: 0.2954\n",
      "Epoch 13/50\n",
      "31/31 [==============================] - 3s 105ms/step - loss: 1.8269 - accuracy: 0.2977 - val_loss: 1.8282 - val_accuracy: 0.3004\n",
      "Epoch 14/50\n",
      "31/31 [==============================] - 3s 107ms/step - loss: 1.7835 - accuracy: 0.3357 - val_loss: 1.8607 - val_accuracy: 0.3155\n",
      "Epoch 15/50\n",
      "31/31 [==============================] - 3s 108ms/step - loss: 1.7543 - accuracy: 0.3368 - val_loss: 1.7994 - val_accuracy: 0.3407\n",
      "Epoch 16/50\n",
      "31/31 [==============================] - 3s 108ms/step - loss: 1.7907 - accuracy: 0.3419 - val_loss: 1.8282 - val_accuracy: 0.3135\n",
      "Epoch 17/50\n",
      "31/31 [==============================] - 3s 108ms/step - loss: 1.7283 - accuracy: 0.3523 - val_loss: 1.7790 - val_accuracy: 0.3427\n",
      "Epoch 18/50\n",
      "31/31 [==============================] - 3s 107ms/step - loss: 1.7622 - accuracy: 0.3337 - val_loss: 1.8123 - val_accuracy: 0.3387\n",
      "Epoch 19/50\n",
      "31/31 [==============================] - 3s 107ms/step - loss: 1.6690 - accuracy: 0.3678 - val_loss: 1.7627 - val_accuracy: 0.3579\n",
      "Epoch 20/50\n",
      "31/31 [==============================] - 3s 107ms/step - loss: 1.6434 - accuracy: 0.3895 - val_loss: 1.7356 - val_accuracy: 0.3629\n",
      "Epoch 21/50\n",
      "31/31 [==============================] - 3s 106ms/step - loss: 1.6871 - accuracy: 0.3771 - val_loss: 1.7602 - val_accuracy: 0.3377\n",
      "Epoch 22/50\n",
      "31/31 [==============================] - 3s 110ms/step - loss: 1.6025 - accuracy: 0.4103 - val_loss: 1.7838 - val_accuracy: 0.3780\n",
      "Epoch 23/50\n",
      "31/31 [==============================] - 3s 108ms/step - loss: 1.6280 - accuracy: 0.4122 - val_loss: 1.6850 - val_accuracy: 0.3942\n",
      "Epoch 24/50\n",
      "31/31 [==============================] - 3s 108ms/step - loss: 1.5995 - accuracy: 0.4194 - val_loss: 1.6558 - val_accuracy: 0.4073\n",
      "Epoch 25/50\n",
      "31/31 [==============================] - 3s 110ms/step - loss: 1.5662 - accuracy: 0.4329 - val_loss: 1.7121 - val_accuracy: 0.3800\n",
      "Epoch 26/50\n",
      "31/31 [==============================] - 3s 108ms/step - loss: 1.5886 - accuracy: 0.4143 - val_loss: 1.6434 - val_accuracy: 0.3962\n",
      "Epoch 27/50\n",
      "31/31 [==============================] - 3s 103ms/step - loss: 1.4944 - accuracy: 0.4452 - val_loss: 1.6641 - val_accuracy: 0.4083\n",
      "Epoch 28/50\n",
      "31/31 [==============================] - 3s 110ms/step - loss: 1.5495 - accuracy: 0.4225 - val_loss: 1.6778 - val_accuracy: 0.3962\n",
      "Epoch 29/50\n",
      "31/31 [==============================] - 3s 110ms/step - loss: 1.4854 - accuracy: 0.4483 - val_loss: 1.6076 - val_accuracy: 0.4254\n",
      "Epoch 30/50\n",
      "31/31 [==============================] - 3s 110ms/step - loss: 1.4880 - accuracy: 0.4504 - val_loss: 1.6504 - val_accuracy: 0.4133\n",
      "Epoch 31/50\n",
      "31/31 [==============================] - 3s 110ms/step - loss: 1.4514 - accuracy: 0.4566 - val_loss: 1.6380 - val_accuracy: 0.4304\n",
      "Epoch 32/50\n",
      "31/31 [==============================] - 3s 108ms/step - loss: 1.3870 - accuracy: 0.4990 - val_loss: 1.6103 - val_accuracy: 0.4335\n",
      "Epoch 33/50\n",
      "31/31 [==============================] - 3s 108ms/step - loss: 1.3841 - accuracy: 0.4969 - val_loss: 1.7711 - val_accuracy: 0.4012\n",
      "Epoch 34/50\n",
      "31/31 [==============================] - 3s 111ms/step - loss: 1.3495 - accuracy: 0.5145 - val_loss: 1.6390 - val_accuracy: 0.4446\n",
      "Epoch 35/50\n",
      "31/31 [==============================] - 3s 108ms/step - loss: 1.4178 - accuracy: 0.4690 - val_loss: 1.5940 - val_accuracy: 0.4405\n",
      "Epoch 36/50\n",
      "31/31 [==============================] - 3s 112ms/step - loss: 1.3290 - accuracy: 0.4969 - val_loss: 1.6243 - val_accuracy: 0.4415\n",
      "Epoch 37/50\n",
      "31/31 [==============================] - 3s 110ms/step - loss: 1.3332 - accuracy: 0.5062 - val_loss: 1.6662 - val_accuracy: 0.4516\n",
      "Epoch 38/50\n",
      "31/31 [==============================] - 3s 111ms/step - loss: 1.3100 - accuracy: 0.5351 - val_loss: 1.5893 - val_accuracy: 0.4476\n",
      "Epoch 39/50\n",
      "31/31 [==============================] - 3s 109ms/step - loss: 1.2545 - accuracy: 0.5486 - val_loss: 1.7302 - val_accuracy: 0.4375\n",
      "Epoch 40/50\n",
      "31/31 [==============================] - 4s 116ms/step - loss: 1.2903 - accuracy: 0.5272 - val_loss: 1.5732 - val_accuracy: 0.4577\n",
      "Epoch 41/50\n",
      "31/31 [==============================] - 4s 114ms/step - loss: 1.2226 - accuracy: 0.5558 - val_loss: 1.5684 - val_accuracy: 0.4365\n",
      "Epoch 42/50\n",
      "31/31 [==============================] - 4s 123ms/step - loss: 1.2173 - accuracy: 0.5752 - val_loss: 1.7369 - val_accuracy: 0.4083\n",
      "Epoch 43/50\n",
      "31/31 [==============================] - 4s 123ms/step - loss: 1.2735 - accuracy: 0.5423 - val_loss: 1.5839 - val_accuracy: 0.4435\n",
      "Epoch 44/50\n",
      "31/31 [==============================] - 4s 118ms/step - loss: 1.2482 - accuracy: 0.5599 - val_loss: 1.5878 - val_accuracy: 0.4375\n",
      "Epoch 45/50\n",
      "31/31 [==============================] - 3s 105ms/step - loss: 1.2032 - accuracy: 0.5671 - val_loss: 1.5867 - val_accuracy: 0.4375\n",
      "Epoch 46/50\n",
      "31/31 [==============================] - 3s 103ms/step - loss: 1.1301 - accuracy: 0.6006 - val_loss: 1.5748 - val_accuracy: 0.4546\n",
      "Epoch 47/50\n",
      "31/31 [==============================] - 3s 108ms/step - loss: 1.1439 - accuracy: 0.5877 - val_loss: 1.6057 - val_accuracy: 0.4425\n",
      "Epoch 48/50\n",
      "31/31 [==============================] - 3s 109ms/step - loss: 1.1172 - accuracy: 0.6028 - val_loss: 1.5991 - val_accuracy: 0.4365\n",
      "Epoch 49/50\n",
      "31/31 [==============================] - 4s 114ms/step - loss: 1.0571 - accuracy: 0.6310 - val_loss: 1.6128 - val_accuracy: 0.4446\n",
      "Epoch 50/50\n",
      "31/31 [==============================] - 4s 120ms/step - loss: 1.1137 - accuracy: 0.5971 - val_loss: 1.6445 - val_accuracy: 0.4476\n"
     ]
    }
   ],
   "source": [
    "steps_per_epoch = len(train_paths) // batch_size\n",
    "validation_steps = len(test_paths) // batch_size\n",
    "\n",
    "#history 하기전에 모델에 변수로 저장해야한다.\n",
    "history = model.fit_generator(\n",
    "    train_dataset,\n",
    "    steps_per_epoch=steps_per_epoch,\n",
    "    validation_data=test_dataset,\n",
    "    validation_steps=validation_steps,\n",
    "    epochs=num_epochs\n",
    ")"
   ]
  },
  {
   "cell_type": "markdown",
   "metadata": {},
   "source": [
    "# **Predict**\n",
    "\n",
    "## **이미지를 Load 직접 load해서 넣는 방법**"
   ]
  },
  {
   "cell_type": "code",
   "execution_count": 15,
   "metadata": {},
   "outputs": [
    {
     "data": {
      "text/plain": [
       "'D:/dataset/cifar/test\\\\0_cat.png'"
      ]
     },
     "execution_count": 15,
     "metadata": {},
     "output_type": "execute_result"
    }
   ],
   "source": [
    "path = test_paths[0]\n",
    "path"
   ]
  },
  {
   "cell_type": "code",
   "execution_count": 16,
   "metadata": {},
   "outputs": [
    {
     "data": {
      "text/plain": [
       "TensorShape([32, 32, 3])"
      ]
     },
     "execution_count": 16,
     "metadata": {},
     "output_type": "execute_result"
    }
   ],
   "source": [
    "gfile = tf.io.read_file(path)\n",
    "image = tf.io.decode_image(gfile, dtype = tf.float32)\n",
    "image.shape"
   ]
  },
  {
   "cell_type": "code",
   "execution_count": 19,
   "metadata": {},
   "outputs": [],
   "source": [
    "image = image[tf.newaxis, ...]"
   ]
  },
  {
   "cell_type": "code",
   "execution_count": 20,
   "metadata": {},
   "outputs": [
    {
     "data": {
      "text/plain": [
       "TensorShape([1, 32, 32, 3])"
      ]
     },
     "execution_count": 20,
     "metadata": {},
     "output_type": "execute_result"
    }
   ],
   "source": [
    "image.shape"
   ]
  },
  {
   "cell_type": "code",
   "execution_count": 22,
   "metadata": {},
   "outputs": [],
   "source": [
    "pred = model.predict(image)"
   ]
  },
  {
   "cell_type": "code",
   "execution_count": 23,
   "metadata": {},
   "outputs": [
    {
     "data": {
      "text/plain": [
       "(1, 10)"
      ]
     },
     "execution_count": 23,
     "metadata": {},
     "output_type": "execute_result"
    }
   ],
   "source": [
    "pred.shape"
   ]
  },
  {
   "cell_type": "code",
   "execution_count": 24,
   "metadata": {},
   "outputs": [
    {
     "data": {
      "text/plain": [
       "array([[0.01223146, 0.0098235 , 0.07381397, 0.2569962 , 0.19544458,\n",
       "        0.18445283, 0.05432431, 0.18798509, 0.00885634, 0.01607163]],\n",
       "      dtype=float32)"
      ]
     },
     "execution_count": 24,
     "metadata": {},
     "output_type": "execute_result"
    }
   ],
   "source": [
    "pred"
   ]
  },
  {
   "cell_type": "code",
   "execution_count": 25,
   "metadata": {},
   "outputs": [
    {
     "data": {
      "text/plain": [
       "3"
      ]
     },
     "execution_count": 25,
     "metadata": {},
     "output_type": "execute_result"
    }
   ],
   "source": [
    "np.argmax(pred)"
   ]
  },
  {
   "cell_type": "markdown",
   "metadata": {},
   "source": [
    "## **generator에서 데이터를 가져오는 방법**"
   ]
  },
  {
   "cell_type": "code",
   "execution_count": 26,
   "metadata": {},
   "outputs": [],
   "source": [
    "test_image, test_label = next(iter(test_dataset))"
   ]
  },
  {
   "cell_type": "code",
   "execution_count": 27,
   "metadata": {},
   "outputs": [
    {
     "data": {
      "text/plain": [
       "TensorShape([32, 32, 32, 3])"
      ]
     },
     "execution_count": 27,
     "metadata": {},
     "output_type": "execute_result"
    }
   ],
   "source": [
    "test_image.shape"
   ]
  },
  {
   "cell_type": "code",
   "execution_count": 28,
   "metadata": {},
   "outputs": [],
   "source": [
    "pred = model.predict(test_image)"
   ]
  },
  {
   "cell_type": "code",
   "execution_count": 29,
   "metadata": {},
   "outputs": [
    {
     "data": {
      "text/plain": [
       "(32, 10)"
      ]
     },
     "execution_count": 29,
     "metadata": {},
     "output_type": "execute_result"
    }
   ],
   "source": [
    "pred.shape"
   ]
  },
  {
   "cell_type": "code",
   "execution_count": 30,
   "metadata": {},
   "outputs": [
    {
     "data": {
      "text/plain": [
       "array([0.01223146, 0.0098235 , 0.07381397, 0.2569962 , 0.19544458,\n",
       "       0.18445285, 0.0543243 , 0.18798509, 0.00885634, 0.01607163],\n",
       "      dtype=float32)"
      ]
     },
     "execution_count": 30,
     "metadata": {},
     "output_type": "execute_result"
    }
   ],
   "source": [
    "pred[0]"
   ]
  },
  {
   "cell_type": "code",
   "execution_count": 31,
   "metadata": {},
   "outputs": [
    {
     "data": {
      "text/plain": [
       "3"
      ]
     },
     "execution_count": 31,
     "metadata": {},
     "output_type": "execute_result"
    }
   ],
   "source": [
    "np.argmax(pred[0])"
   ]
  },
  {
   "cell_type": "markdown",
   "metadata": {},
   "source": [
    "## **generator에 넣는 방법**"
   ]
  },
  {
   "cell_type": "code",
   "execution_count": 34,
   "metadata": {},
   "outputs": [],
   "source": [
    "pred = model.predict_generator(test_dataset.take(2))\n",
    "# test_dataset.take(1) 한 배치만 가져온다. \n",
    "#전체 이미지를 넣을수 없어서 take를 사용해서 배치마다 넣어겨 결과값을 가져온ㄷ,"
   ]
  },
  {
   "cell_type": "code",
   "execution_count": 35,
   "metadata": {},
   "outputs": [
    {
     "data": {
      "text/plain": [
       "(64, 10)"
      ]
     },
     "execution_count": 35,
     "metadata": {},
     "output_type": "execute_result"
    }
   ],
   "source": [
    "pred.shape"
   ]
  },
  {
   "cell_type": "code",
   "execution_count": 36,
   "metadata": {},
   "outputs": [],
   "source": [
    "image, label = next(iter(test_dataset))"
   ]
  },
  {
   "cell_type": "code",
   "execution_count": 37,
   "metadata": {},
   "outputs": [
    {
     "data": {
      "text/plain": [
       "TensorShape([32, 32, 32, 3])"
      ]
     },
     "execution_count": 37,
     "metadata": {},
     "output_type": "execute_result"
    }
   ],
   "source": [
    "image.shape"
   ]
  },
  {
   "cell_type": "code",
   "execution_count": 38,
   "metadata": {},
   "outputs": [
    {
     "name": "stdout",
     "output_type": "stream",
     "text": [
      "1/1 [==============================] - 0s 1ms/step - loss: 1.6542 - accuracy: 0.5000\n"
     ]
    }
   ],
   "source": [
    "evals = model.evaluate(image, label)"
   ]
  },
  {
   "cell_type": "code",
   "execution_count": 39,
   "metadata": {},
   "outputs": [
    {
     "data": {
      "text/plain": [
       "[1.6541881561279297, 0.5]"
      ]
     },
     "execution_count": 39,
     "metadata": {},
     "output_type": "execute_result"
    }
   ],
   "source": [
    "evals"
   ]
  }
 ],
 "metadata": {
  "kernelspec": {
   "display_name": "Python 3",
   "language": "python",
   "name": "python3"
  },
  "language_info": {
   "codemirror_mode": {
    "name": "ipython",
    "version": 3
   },
   "file_extension": ".py",
   "mimetype": "text/x-python",
   "name": "python",
   "nbconvert_exporter": "python",
   "pygments_lexer": "ipython3",
   "version": "3.8.5"
  }
 },
 "nbformat": 4,
 "nbformat_minor": 4
}
