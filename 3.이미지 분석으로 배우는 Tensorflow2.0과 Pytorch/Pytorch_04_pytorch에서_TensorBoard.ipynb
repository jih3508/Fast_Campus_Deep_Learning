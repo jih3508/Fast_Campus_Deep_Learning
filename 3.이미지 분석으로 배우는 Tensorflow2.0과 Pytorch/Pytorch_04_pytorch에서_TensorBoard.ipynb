{
 "cells": [
  {
   "cell_type": "code",
   "execution_count": null,
   "metadata": {
    "id": "uKCs7ds9lrUT"
   },
   "outputs": [],
   "source": [
    "import os\n",
    "from glob import glob\n",
    "\n",
    "import torch\n",
    "import torch.nn as nn\n",
    "import torch.nn.functional as F\n",
    "import torch.optim as optim\n",
    "from torchvision import datasets, transforms\n",
    "\n",
    "from torch.utils.data import Dataset, DataLoader\n",
    "\n",
    "import numpy as np\n",
    "from PIL import Image"
   ]
  },
  {
   "cell_type": "code",
   "execution_count": null,
   "metadata": {
    "id": "CvQVTLhFmIgi"
   },
   "outputs": [],
   "source": [
    "seed = 1\n",
    "\n",
    "lr = 0.001\n",
    "momentum = 0.5\n",
    "\n",
    "batch_size = 64\n",
    "test_batch_size = 64\n",
    "\n",
    "epochs = 50 # 강의에서는 1000으로 진행하는데, 실습을 위해 에포크 낮춤.\n",
    "no_cuda = False\n",
    "log_interval = 100"
   ]
  },
  {
   "cell_type": "markdown",
   "metadata": {
    "id": "0bNzJlkgmQem"
   },
   "source": [
    "# **Modle**"
   ]
  },
  {
   "cell_type": "code",
   "execution_count": null,
   "metadata": {
    "id": "jSlUXATHmPpn"
   },
   "outputs": [],
   "source": [
    "class Net(nn.Module):\n",
    "    def __init__(self):\n",
    "        super(Net, self).__init__()\n",
    "        self.conv1 = nn.Conv2d(1, 20, 5, 1)\n",
    "        self.conv2 = nn.Conv2d(20, 50, 5, 1)\n",
    "        self.fc1 = nn.Linear(4*4*50, 500)\n",
    "        self.fc2 = nn.Linear(500, 10)\n",
    "\n",
    "    def forward(self, x):\n",
    "        x = F.relu(self.conv1(x))\n",
    "        x = F.max_pool2d(x, 2, 2)\n",
    "        x = F.relu(self.conv2(x))\n",
    "        x = F.max_pool2d(x, 2, 2)\n",
    "        x = x.view(-1, 4*4*50)\n",
    "        x = F.relu(self.fc1(x))\n",
    "        x = self.fc2(x)\n",
    "        return F.log_softmax(x, dim=1)"
   ]
  },
  {
   "cell_type": "markdown",
   "metadata": {
    "id": "e76t0kzMmcAz"
   },
   "source": [
    "# **Preprocess**"
   ]
  },
  {
   "cell_type": "code",
   "execution_count": null,
   "metadata": {
    "id": "I6p_XRYMsR6U"
   },
   "outputs": [],
   "source": [
    "from google.colab import drive\n",
    "drive.mount('/content/drive')"
   ]
  },
  {
   "cell_type": "code",
   "execution_count": null,
   "metadata": {
    "id": "g2c9bv0Cmf-7"
   },
   "outputs": [],
   "source": [
    "train_paths = glob('/content/drive/MyDrive/dataset/mnist_png/training/*/*.png')[:1000]\n",
    "test_paths = glob('/content/drive/MyDrive/dataset/mnist_png/testing/*/*.png')[:1000]\n",
    "len(train_paths), len(test_paths)"
   ]
  },
  {
   "cell_type": "markdown",
   "metadata": {
    "id": "yAh0C_eampqO"
   },
   "source": [
    "참고: https://pytorch.org/tutorials/beginner/data_loading_tutorial.html#dataset-class"
   ]
  },
  {
   "cell_type": "code",
   "execution_count": null,
   "metadata": {
    "id": "yrCyvS5CmonH"
   },
   "outputs": [],
   "source": [
    "class Datset(Dataset):\n",
    "  def __init__(self, data_paths, transform=None):\n",
    "\n",
    "    self.data_paths = data_paths\n",
    "    self.transform = transform\n",
    "  \n",
    "  def __len__(self):\n",
    "    return len(self.data_paths)\n",
    "\n",
    "  def __getitem__(self, idx):\n",
    "    path = self.data_paths[idx]\n",
    "    image = Image.open(path).convert('L')\n",
    "    label = int(path.split('\\\\')[-2])\n",
    "\n",
    "    if self.trainsform:\n",
    "      image = self.transform(image)\n",
    "\n",
    "    return image, label\n",
    "\n"
   ]
  },
  {
   "cell_type": "markdown",
   "metadata": {
    "id": "HzCEbv9in8pt"
   },
   "source": [
    "# **Optimization**"
   ]
  },
  {
   "cell_type": "code",
   "execution_count": null,
   "metadata": {
    "id": "Rt8q877wnb0q"
   },
   "outputs": [],
   "source": [
    "model = Net().to(device)\n",
    "optimizer = optim.SGD(model.parameters(), lr=lr, momentum=momentum)"
   ]
  },
  {
   "cell_type": "markdown",
   "metadata": {
    "id": "gDVlM2kIpGIv"
   },
   "source": [
    "# **Training**"
   ]
  },
  {
   "cell_type": "code",
   "execution_count": null,
   "metadata": {
    "id": "egT8kUZjoaXq"
   },
   "outputs": [],
   "source": [
    "import torchvision\n",
    "from torch.utils.tensorboard import SummaryWriter"
   ]
  },
  {
   "cell_type": "code",
   "execution_count": null,
   "metadata": {
    "id": "_mAYgd4WqdEC"
   },
   "outputs": [],
   "source": [
    "writer = SummaryWriter()"
   ]
  },
  {
   "cell_type": "code",
   "execution_count": null,
   "metadata": {
    "id": "1QpDptvrwxCy"
   },
   "outputs": [],
   "source": []
  },
  {
   "cell_type": "code",
   "execution_count": null,
   "metadata": {
    "id": "2OHukhM4qdNW"
   },
   "outputs": [],
   "source": [
    "for epoch in range(1, epochs + 1):\n",
    "  # Train Mode\n",
    "  model.train()\n",
    "\n",
    "  for batch_idx, (data, target) in enumerate(train_loader):\n",
    "    data, target = data.to(device), target.to(device)\n",
    "\n",
    "    optimizer.zero_grad()\n",
    "    output = model(data)\n",
    "    loss = F.nll_loss(output, target) #https://pytorch.org/docs/stab/nn.html#nll-loss\n",
    "\n",
    "    if batch_idx % log_interval == 0:\n",
    "      print('Train Epoch: {}[{}/{} ({:.0f}%)]\\tLoss: {:.6f}'.format(\n",
    "          epoch, batch_idx * len(data), len(train_loader.dataset),\n",
    "          100. * batch_idx / len(train_loader), loss.item()))\n",
    "      \n",
    "      # Test mode\n",
    "      model.eval()\n",
    "      test_loss = 0\n",
    "      correct = 0\n",
    "      with torch.no_grad():\n",
    "        for data, target in test_loader:\n",
    "            data, target = data.to(device), target.to(device)\n",
    "            output = model(data)\n",
    "            test_loss += F.nll_loss(output, target, reduction='sum').item() # sum up batch loss\n",
    "            pred = output.argmax(dim=1, keepdim=True) # get the index of the max log-probability\n",
    "            correct += pred.eq(target.view_as(pred)).sum().item()\n",
    "\n",
    "      test_loss /= len(test_loader.dataset)\n",
    "    \n",
    "      accuracy = 100. * correct / len(test_loader.dataset)\n",
    "    \n",
    "      print('\\nTest set: Average loss: {:.4f}, Accuracy: {}/{} ({:.0f}%)\\n'.format(\n",
    "          test_loss, correct, len(test_loader.dataset),\n",
    "          accuracy))\n",
    "\n",
    "      if epoch == 0:\n",
    "        grid = torchvision.utils.make_grid(data)\n",
    "        writer.add_image('/content/images', grid, epoch)\n",
    "        writer.add_graph(model, data)\n",
    "      \n",
    "      writer.add_scalar('/content/Loss/train/', loss, epoch)\n",
    "      writer.add_scalar('/content/Loss/test/', test_loss, epoch)\n",
    "      writer.add_scalar('/content/Accuracy/test', accuracy, epoch)"
   ]
  }
 ],
 "metadata": {
  "accelerator": "GPU",
  "colab": {
   "machine_shape": "hm",
   "name": "Pytorch - 04. pytorch에서 TensorBoard.ipynb",
   "private_outputs": true,
   "provenance": []
  },
  "kernelspec": {
   "display_name": "Python 3",
   "language": "python",
   "name": "python3"
  },
  "language_info": {
   "codemirror_mode": {
    "name": "ipython",
    "version": 3
   },
   "file_extension": ".py",
   "mimetype": "text/x-python",
   "name": "python",
   "nbconvert_exporter": "python",
   "pygments_lexer": "ipython3",
   "version": "3.8.3"
  }
 },
 "nbformat": 4,
 "nbformat_minor": 1
}
