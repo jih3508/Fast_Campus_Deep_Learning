{
  "nbformat": 4,
  "nbformat_minor": 0,
  "metadata": {
    "colab": {
      "name": "Pytorch - 06. save and load model.ipynb",
      "private_outputs": true,
      "provenance": [],
      "collapsed_sections": [],
      "machine_shape": "hm"
    },
    "kernelspec": {
      "name": "python3",
      "display_name": "Python 3"
    },
    "accelerator": "GPU"
  },
  "cells": [
    {
      "cell_type": "code",
      "metadata": {
        "id": "uKCs7ds9lrUT"
      },
      "source": [
        "import os\n",
        "from glob import glob\n",
        "\n",
        "import torch\n",
        "import torch.nn as nn\n",
        "import torch.nn.functional as F\n",
        "import torch.optim as optim\n",
        "from torchvision import datasets, transforms\n",
        "\n",
        "from torch.utils.data import Dataset, DataLoader\n",
        "\n",
        "import numpy as np\n",
        "from PIL import Image"
      ],
      "execution_count": null,
      "outputs": []
    },
    {
      "cell_type": "code",
      "metadata": {
        "id": "CvQVTLhFmIgi"
      },
      "source": [
        "seed = 1\n",
        "\n",
        "lr = 0.001\n",
        "momentum = 0.5\n",
        "\n",
        "batch_size = 64\n",
        "test_batch_size = 64\n",
        "\n",
        "epochs = 5 # 강의에서는 1000으로 진행하는데, 실습을 위해 에포크 낮춤.\n",
        "no_cuda = False\n",
        "log_interval = 100"
      ],
      "execution_count": null,
      "outputs": []
    },
    {
      "cell_type": "markdown",
      "metadata": {
        "id": "0bNzJlkgmQem"
      },
      "source": [
        "# **Modle**"
      ]
    },
    {
      "cell_type": "code",
      "metadata": {
        "id": "jSlUXATHmPpn"
      },
      "source": [
        "class Net(nn.Module):\n",
        "    def __init__(self):\n",
        "        super(Net, self).__init__()\n",
        "        self.conv1 = nn.Conv2d(1, 20, 5, 1)\n",
        "        self.conv2 = nn.Conv2d(20, 50, 5, 1)\n",
        "        self.fc1 = nn.Linear(4*4*50, 500)\n",
        "        self.fc2 = nn.Linear(500, 10)\n",
        "\n",
        "    def forward(self, x):\n",
        "        x = F.relu(self.conv1(x))\n",
        "        x = F.max_pool2d(x, 2, 2)\n",
        "        x = F.relu(self.conv2(x))\n",
        "        x = F.max_pool2d(x, 2, 2)\n",
        "        x = x.view(-1, 4*4*50)\n",
        "        x = F.relu(self.fc1(x))\n",
        "        x = self.fc2(x)\n",
        "        return F.log_softmax(x, dim=1)"
      ],
      "execution_count": null,
      "outputs": []
    },
    {
      "cell_type": "markdown",
      "metadata": {
        "id": "e76t0kzMmcAz"
      },
      "source": [
        "# **Preprocess**"
      ]
    },
    {
      "cell_type": "code",
      "metadata": {
        "id": "I6p_XRYMsR6U"
      },
      "source": [
        "from google.colab import drive\n",
        "drive.mount('/content/drive')\n"
      ],
      "execution_count": null,
      "outputs": []
    },
    {
      "cell_type": "code",
      "metadata": {
        "id": "g2c9bv0Cmf-7"
      },
      "source": [
        "train_paths = glob('/content/drive/MyDrive/dataset/mnist_png/training/*/*.png')[:1000]\n",
        "test_paths = glob('/content/drive/MyDrive/dataset/mnist_png/testing/*/*.png')[:1000]\n",
        "len(train_paths), len(test_paths)"
      ],
      "execution_count": null,
      "outputs": []
    },
    {
      "cell_type": "markdown",
      "metadata": {
        "id": "yAh0C_eampqO"
      },
      "source": [
        "참고: https://pytorch.org/tutorials/beginner/data_loading_tutorial.html#dataset-class"
      ]
    },
    {
      "cell_type": "code",
      "metadata": {
        "id": "yrCyvS5CmonH"
      },
      "source": [
        "class Dataset(Dataset):\n",
        "    def __init__(self, data_paths, transform=None):\n",
        "\n",
        "        self.data_paths = data_paths\n",
        "        self.transform = transform\n",
        "\n",
        "    def __len__(self):\n",
        "        return len(self.data_paths)\n",
        "\n",
        "    def __getitem__(self, idx):\n",
        "        path = self.data_paths[idx]\n",
        "        image = Image.open(path).convert(\"L\")\n",
        "        label = int(path.split('/')[-2]) # 맥의 경우 경로가 '/'로 구분\n",
        "        #label = int(path.split('\\\\')[-2]) # 윈도우의 경우 경로가 '\\'로 구분되므로 '\\\\'로 표기\n",
        "        \n",
        "        \n",
        "        if self.transform:\n",
        "            image = self.transform(image)\n",
        "\n",
        "        return image, label"
      ],
      "execution_count": null,
      "outputs": []
    },
    {
      "cell_type": "code",
      "metadata": {
        "id": "1cy6mD9U5j9k"
      },
      "source": [
        "torch.manual_seed(seed)\n",
        "\n",
        "use_cuda = not no_cuda and torch.cuda.is_available()\n",
        "device = torch.device(\"cuda\" if use_cuda else \"cpu\")\n",
        "\n",
        "kwargs = {'num_workers': 1, 'pin_memory': True} if use_cuda else {}\n",
        "\n",
        "train_loader = torch.utils.data.DataLoader(\n",
        "    Dataset(train_paths, \n",
        "            transforms.Compose([\n",
        "                transforms.RandomHorizontalFlip(), \n",
        "                transforms.ToTensor(), \n",
        "                transforms.Normalize(\n",
        "                    mean=[0.406], \n",
        "                    std=[0.225])])\n",
        "           ),\n",
        "    batch_size=batch_size, \n",
        "    shuffle=True\n",
        ")\n",
        "\n",
        "test_loader = torch.utils.data.DataLoader(\n",
        "    Dataset(test_paths,\n",
        "           transforms.Compose([\n",
        "               transforms.ToTensor(), \n",
        "               transforms.Normalize(\n",
        "                   mean=[0.406], \n",
        "                   std=[0.225])])\n",
        "           ),\n",
        "    batch_size=batch_size, \n",
        "    shuffle=False\n",
        ")"
      ],
      "execution_count": null,
      "outputs": []
    },
    {
      "cell_type": "code",
      "metadata": {
        "id": "GgB5qW351kVY"
      },
      "source": [
        "for i, data in enumerate(train_loader):\n",
        "  if i == 0:\n",
        "    print(data[0].shape, data[1].shape)\n",
        "    break"
      ],
      "execution_count": null,
      "outputs": []
    },
    {
      "cell_type": "markdown",
      "metadata": {
        "id": "HzCEbv9in8pt"
      },
      "source": [
        "# **Optimization**"
      ]
    },
    {
      "cell_type": "code",
      "metadata": {
        "id": "Rt8q877wnb0q"
      },
      "source": [
        "model = Net().to(device)\n",
        "optimizer = optim.SGD(model.parameters(), lr=lr, momentum=momentum)"
      ],
      "execution_count": null,
      "outputs": []
    },
    {
      "cell_type": "markdown",
      "metadata": {
        "id": "gDVlM2kIpGIv"
      },
      "source": [
        "# **Training**"
      ]
    },
    {
      "cell_type": "code",
      "metadata": {
        "id": "egT8kUZjoaXq"
      },
      "source": [
        "import torchvision\n",
        "from torch.utils.tensorboard import SummaryWriter"
      ],
      "execution_count": null,
      "outputs": []
    },
    {
      "cell_type": "code",
      "metadata": {
        "id": "_mAYgd4WqdEC"
      },
      "source": [
        "writer = SummaryWriter()"
      ],
      "execution_count": null,
      "outputs": []
    },
    {
      "cell_type": "code",
      "metadata": {
        "id": "2OHukhM4qdNW"
      },
      "source": [
        "for epoch in range(1, epochs + 1):\n",
        "  # Train Mode\n",
        "  model.train()\n",
        "\n",
        "  for batch_idx, (data, target) in enumerate(train_loader):\n",
        "    data, target = data.to(device), target.to(device)\n",
        "\n",
        "    optimizer.zero_grad()\n",
        "    output = model(data)\n",
        "    loss = F.nll_loss(output, target) #https://pytorch.org/docs/stab/nn.html#nll-loss\n",
        "\n",
        "    if batch_idx % log_interval == 0:\n",
        "      print('Train Epoch: {}[{}/{} ({:.0f}%)]\\tLoss: {:.6f}'.format(\n",
        "          epoch, batch_idx * len(data), len(train_loader.dataset),\n",
        "          100. * batch_idx / len(train_loader), loss.item()))\n",
        "      \n",
        "      # Test mode\n",
        "      model.eval()\n",
        "      test_loss = 0\n",
        "      correct = 0\n",
        "      with torch.no_grad():\n",
        "        for data, target in test_loader:\n",
        "            data, target = data.to(device), target.to(device)\n",
        "            output = model(data)\n",
        "            test_loss += F.nll_loss(output, target, reduction='sum').item() # sum up batch loss\n",
        "            pred = output.argmax(dim=1, keepdim=True) # get the index of the max log-probability\n",
        "            correct += pred.eq(target.view_as(pred)).sum().item()\n",
        "\n",
        "      test_loss /= len(test_loader.dataset)\n",
        "    \n",
        "      accuracy = 100. * correct / len(test_loader.dataset)\n",
        "    \n",
        "      print('\\nTest set: Average loss: {:.4f}, Accuracy: {}/{} ({:.0f}%)\\n'.format(\n",
        "          test_loss, correct, len(test_loader.dataset),\n",
        "          accuracy))"
      ],
      "execution_count": null,
      "outputs": []
    },
    {
      "cell_type": "markdown",
      "metadata": {
        "id": "Nt9gzSYSK9hI"
      },
      "source": [
        "# **Save Model**\n",
        "- 공식 홈페이지에서는 바로 다음 단계에서 배울 전체 모델을 학습하는 것보다는 이 방법을 추천\n",
        "- 나중에 다른 모델에 적용하거나 수정하는 등 여러가지 이유로 용이하기 때문이다.\n",
        "https://pytorch.org/tutorials/begineer/saving_loading_models.html"
      ]
    },
    {
      "cell_type": "code",
      "metadata": {
        "id": "RtL-HuLKLQhL"
      },
      "source": [
        "save_path = '/content/drive/MyDrive/model_weight.pt'"
      ],
      "execution_count": null,
      "outputs": []
    },
    {
      "cell_type": "code",
      "metadata": {
        "id": "b4u7GXQyMQQ1"
      },
      "source": [
        "torch.save(model.state_dict(), save_path)"
      ],
      "execution_count": null,
      "outputs": []
    },
    {
      "cell_type": "code",
      "metadata": {
        "id": "rmsuNTOgMXpB"
      },
      "source": [
        "model.state_dict()['conv1.weight'].shape"
      ],
      "execution_count": null,
      "outputs": []
    },
    {
      "cell_type": "code",
      "metadata": {
        "id": "uX-qgkBdOlFu"
      },
      "source": [
        "class Net(nn.Module):\n",
        "    def __init__(self):\n",
        "        super(Net, self).__init__()\n",
        "        self.conv1 = nn.Conv2d(1, 20, 5, 1)\n",
        "        self.conv2 = nn.Conv2d(20, 50, 5, 1)\n",
        "        self.fc1 = nn.Linear(4*4*50, 500)\n",
        "        self.fc2 = nn.Linear(500, 10)\n",
        "\n",
        "    def forward(self, x):\n",
        "        x = F.relu(self.conv1(x))\n",
        "        x = F.max_pool2d(x, 2, 2)\n",
        "        x = F.relu(self.conv2(x))\n",
        "        x = F.max_pool2d(x, 2, 2)\n",
        "        x = x.view(-1, 4*4*50)\n",
        "        x = F.relu(self.fc1(x))\n",
        "        x = self.fc2(x)\n",
        "        return F.log_softmax(x, dim=1)"
      ],
      "execution_count": null,
      "outputs": []
    },
    {
      "cell_type": "code",
      "metadata": {
        "id": "gQ3FdKyCOdRA"
      },
      "source": [
        "model = Net().to(device)"
      ],
      "execution_count": null,
      "outputs": []
    },
    {
      "cell_type": "code",
      "metadata": {
        "id": "ZkJCX-GmOmon"
      },
      "source": [
        "weight_dict = torch.load('/content/drive/MyDrive/model_weight.pt')"
      ],
      "execution_count": null,
      "outputs": []
    },
    {
      "cell_type": "code",
      "metadata": {
        "id": "0cyNeRFFOuL7"
      },
      "source": [
        "weight_dict['conv1.weight'].shape"
      ],
      "execution_count": null,
      "outputs": []
    },
    {
      "cell_type": "code",
      "metadata": {
        "id": "30lzAq7uOy8D"
      },
      "source": [
        "model.load_state_dict(weight_dict)"
      ],
      "execution_count": null,
      "outputs": []
    },
    {
      "cell_type": "code",
      "metadata": {
        "id": "sPY95zczO24G"
      },
      "source": [
        "model.eval()"
      ],
      "execution_count": null,
      "outputs": []
    },
    {
      "cell_type": "markdown",
      "metadata": {
        "id": "A2k8n6CnLlVZ"
      },
      "source": [
        "# Save Entire model"
      ]
    },
    {
      "cell_type": "code",
      "metadata": {
        "id": "D7_537VjLbUr"
      },
      "source": [
        "save_path = '/content/drive/MyDrive/model.pt'"
      ],
      "execution_count": null,
      "outputs": []
    },
    {
      "cell_type": "code",
      "metadata": {
        "id": "yS-fCh2WPHYN"
      },
      "source": [
        "torch.save(model, save_path)"
      ],
      "execution_count": null,
      "outputs": []
    },
    {
      "cell_type": "markdown",
      "metadata": {
        "id": "Z_MuaT_zPUgW"
      },
      "source": [
        "# Load Model"
      ]
    },
    {
      "cell_type": "code",
      "metadata": {
        "id": "i81CtM8PPLGo"
      },
      "source": [
        "model = torch.load(save_path)"
      ],
      "execution_count": null,
      "outputs": []
    },
    {
      "cell_type": "code",
      "metadata": {
        "id": "olP-Aq0LPPU6"
      },
      "source": [
        "model.eval"
      ],
      "execution_count": null,
      "outputs": []
    },
    {
      "cell_type": "markdown",
      "metadata": {
        "id": "qkgl884rLolI"
      },
      "source": [
        "# Save, Load and Resuming Training"
      ]
    },
    {
      "cell_type": "code",
      "metadata": {
        "id": "JvabatywPXt3"
      },
      "source": [
        "checkpoint_path = '/content/drive/MyDrive/model.pt'"
      ],
      "execution_count": null,
      "outputs": []
    },
    {
      "cell_type": "code",
      "metadata": {
        "id": "fNxRy8kbPe6V"
      },
      "source": [
        "torch.save ({\n",
        "    'epoch': epoch,\n",
        "    'model_state_dict': model.state_dict(),\n",
        "    'optimizer_state_dict': optimizer.state_dict(),\n",
        "    'loss': loss\n",
        "\n",
        "}, checkpoint_path)"
      ],
      "execution_count": null,
      "outputs": []
    },
    {
      "cell_type": "code",
      "metadata": {
        "id": "JE_2aLoWQEbb"
      },
      "source": [
        "model = Net().to(device)"
      ],
      "execution_count": null,
      "outputs": []
    },
    {
      "cell_type": "code",
      "metadata": {
        "id": "vFp-_6npQLfX"
      },
      "source": [
        "optimizer = optim.SGD(model.parameters(), lr=lr, momentum=momentum)"
      ],
      "execution_count": null,
      "outputs": []
    },
    {
      "cell_type": "code",
      "metadata": {
        "id": "ax0WJUW9Ltq1"
      },
      "source": [
        "checkpoint = torch.load(checkpoint_path)"
      ],
      "execution_count": null,
      "outputs": []
    },
    {
      "cell_type": "code",
      "metadata": {
        "id": "63VgAd61QZNA"
      },
      "source": [
        "checkpoint.keys()"
      ],
      "execution_count": null,
      "outputs": []
    },
    {
      "cell_type": "code",
      "metadata": {
        "id": "akVjthN_QbNV"
      },
      "source": [
        "model.load_state_dict(checkpoint['model_state_dict'])\n",
        "optimizer.load_state_dict(checkpoint['optimizer_state_dict'])\n",
        "epoch = checkpoint['epoch']\n",
        "loss = checkpoint['loss']"
      ],
      "execution_count": null,
      "outputs": []
    },
    {
      "cell_type": "code",
      "metadata": {
        "id": "xKwLo8KDQ0m5"
      },
      "source": [
        "model"
      ],
      "execution_count": null,
      "outputs": []
    },
    {
      "cell_type": "code",
      "metadata": {
        "id": "REjf8jLJQ2Nh"
      },
      "source": [
        "optimizer"
      ],
      "execution_count": null,
      "outputs": []
    },
    {
      "cell_type": "code",
      "metadata": {
        "id": "fw7jpBYOQe9f"
      },
      "source": [
        "epoch"
      ],
      "execution_count": null,
      "outputs": []
    },
    {
      "cell_type": "code",
      "metadata": {
        "id": "8NYWaEN6Q5-y"
      },
      "source": [
        "loss"
      ],
      "execution_count": null,
      "outputs": []
    },
    {
      "cell_type": "code",
      "metadata": {
        "id": "k7XxaTCdQ6jK"
      },
      "source": [
        "model.train()"
      ],
      "execution_count": null,
      "outputs": []
    }
  ]
}