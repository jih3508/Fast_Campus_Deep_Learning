{
 "cells": [
  {
   "cell_type": "markdown",
   "metadata": {},
   "source": [
    "# **TensorFlow 2.0**\n",
    "모델을 학습할때 중간에 가중치값등 저장하는 실습"
   ]
  },
  {
   "cell_type": "code",
   "execution_count": 1,
   "metadata": {},
   "outputs": [],
   "source": [
    "import os\n",
    "from glob import glob\n",
    "from datetime import datetime\n",
    "\n",
    "import numpy as np\n",
    "\n",
    "import tensorflow as tf\n",
    "from tensorflow.keras import layers\n",
    "\n",
    "from tensorflow.keras import datasets \n",
    "\n",
    "import matplotlib.pyplot as plt\n",
    "\n",
    "%load_ext tensorboard\n",
    "%matplotlib inline"
   ]
  },
  {
   "cell_type": "markdown",
   "metadata": {},
   "source": [
    "## **Hyperparameter Tunning**"
   ]
  },
  {
   "cell_type": "code",
   "execution_count": 2,
   "metadata": {},
   "outputs": [],
   "source": [
    "num_epochs = 20\n",
    "batch_size = 32\n",
    "\n",
    "learning_rate = 0.001\n",
    "\n",
    "dropout_rate = 0.5\n",
    "\n",
    "input_shape = (32, 32, 3)\n",
    "num_classes = 10"
   ]
  },
  {
   "cell_type": "markdown",
   "metadata": {},
   "source": [
    "## **Build Model**"
   ]
  },
  {
   "cell_type": "code",
   "execution_count": 3,
   "metadata": {},
   "outputs": [],
   "source": [
    "inputs = layers.Input(input_shape)\n",
    "\n",
    "net = layers.Conv2D(32, (3, 3), padding='SAME')(inputs)\n",
    "net = layers.Activation('relu')(net)\n",
    "net = layers.Conv2D(32, (3, 3), padding='SAME')(net)\n",
    "net = layers.Activation('relu')(net)\n",
    "net = layers.MaxPooling2D(pool_size=(2, 2))(net)\n",
    "net = layers.Dropout(dropout_rate)(net)\n",
    "\n",
    "net = layers.Conv2D(64, (3, 3), padding='SAME')(net)\n",
    "net = layers.Activation('relu')(net)\n",
    "net = layers.Conv2D(64, (3, 3), padding='SAME')(net)\n",
    "net = layers.Activation('relu')(net)\n",
    "net = layers.MaxPooling2D(pool_size=(2, 2))(net)\n",
    "net = layers.Dropout(dropout_rate)(net)\n",
    "\n",
    "net = layers.Flatten()(net)\n",
    "net = layers.Dense(512)(net)\n",
    "net = layers.Activation('relu')(net)\n",
    "net = layers.Dropout(dropout_rate)(net)\n",
    "net = layers.Dense(num_classes)(net)\n",
    "net = layers.Activation('softmax')(net)\n",
    "\n",
    "model = tf.keras.Model(inputs=inputs, outputs=net, name='Basic_CNN')"
   ]
  },
  {
   "cell_type": "code",
   "execution_count": 4,
   "metadata": {},
   "outputs": [],
   "source": [
    "# Model is the full model w/o custom layers\n",
    "model.compile(optimizer=tf.keras.optimizers.Adam(learning_rate),  # Optimization\n",
    "              loss='sparse_categorical_crossentropy',  # Loss Function \n",
    "              metrics=['accuracy'])  # Metrics / Accuracy"
   ]
  },
  {
   "cell_type": "markdown",
   "metadata": {},
   "source": [
    "# **Data Preprocess**"
   ]
  },
  {
   "cell_type": "code",
   "execution_count": 5,
   "metadata": {},
   "outputs": [],
   "source": [
    "train_paths = glob('D:/dataset/cifar/train/*.png')[:1000]\n",
    "test_paths = glob('D:/dataset/cifar/test/*.png')[:1000]"
   ]
  },
  {
   "cell_type": "code",
   "execution_count": 6,
   "metadata": {},
   "outputs": [],
   "source": [
    "def get_class_name(path):\n",
    "    return path.split('_')[-1].replace('.png', '')"
   ]
  },
  {
   "cell_type": "code",
   "execution_count": 7,
   "metadata": {},
   "outputs": [],
   "source": [
    "train_labels = [get_class_name(path) for path in train_paths]\n",
    "class_names = np.unique(train_labels)"
   ]
  },
  {
   "cell_type": "code",
   "execution_count": 8,
   "metadata": {},
   "outputs": [],
   "source": [
    "def get_label(path):\n",
    "    fname = tf.strings.split(path, '_')[-1]\n",
    "    lbl_name = tf.strings.regex_replace(fname, '.png', '')\n",
    "    onehot = tf.cast(lbl_name == class_names, tf.uint8)\n",
    "    return tf.argmax(onehot)  # 이번에는 onehot이 아닌 label 번호로"
   ]
  },
  {
   "cell_type": "code",
   "execution_count": 9,
   "metadata": {},
   "outputs": [],
   "source": [
    "def load_image_label(path):\n",
    "    gfile = tf.io.read_file(path)\n",
    "    image = tf.io.decode_image(gfile)\n",
    "    image = tf.cast(image, tf.float32) / 255.  # rescale\n",
    "    \n",
    "    label = get_label(path)\n",
    "    return image, label"
   ]
  },
  {
   "cell_type": "code",
   "execution_count": 10,
   "metadata": {},
   "outputs": [],
   "source": [
    "def image_preprocess(image, label):\n",
    "    image = tf.image.random_flip_up_down(image)\n",
    "    image = tf.image.random_flip_left_right(image)\n",
    "    return image, label"
   ]
  },
  {
   "cell_type": "code",
   "execution_count": 11,
   "metadata": {},
   "outputs": [],
   "source": [
    "AUTOTUNE = tf.data.experimental.AUTOTUNE"
   ]
  },
  {
   "cell_type": "code",
   "execution_count": 12,
   "metadata": {},
   "outputs": [],
   "source": [
    "train_dataset = tf.data.Dataset.from_tensor_slices(train_paths)\n",
    "train_dataset = train_dataset.map(load_image_label, num_parallel_calls=AUTOTUNE)\n",
    "train_dataset = train_dataset.map(image_preprocess, num_parallel_calls=AUTOTUNE)\n",
    "train_dataset = train_dataset.batch(batch_size)\n",
    "train_dataset = train_dataset.shuffle(buffer_size=len(train_paths))\n",
    "train_dataset = train_dataset.repeat()"
   ]
  },
  {
   "cell_type": "code",
   "execution_count": 13,
   "metadata": {},
   "outputs": [],
   "source": [
    "test_dataset = tf.data.Dataset.from_tensor_slices(test_paths)\n",
    "test_dataset = test_dataset.map(load_image_label, num_parallel_calls=AUTOTUNE)\n",
    "test_dataset = test_dataset.batch(batch_size)\n",
    "test_dataset = test_dataset.repeat()"
   ]
  },
  {
   "cell_type": "markdown",
   "metadata": {},
   "source": [
    "# **Checkpoint**"
   ]
  },
  {
   "cell_type": "code",
   "execution_count": 14,
   "metadata": {},
   "outputs": [],
   "source": [
    "save_path = 'checkpoints'"
   ]
  },
  {
   "cell_type": "code",
   "execution_count": 17,
   "metadata": {},
   "outputs": [],
   "source": [
    "checkpoint = tf.keras.callbacks.ModelCheckpoint(save_path, monitor='val_accuracy', verbose=1, save_best_only=True, mode='max')\n",
    "#verbose=1: 저장할때 알려줌, 0이면 저장했다는 출력 안함\n",
    "#save_best_only=True: accurancy가 올라가면 저장해라\n",
    "#mode = 'max':"
   ]
  },
  {
   "cell_type": "markdown",
   "metadata": {},
   "source": [
    "## **Training**"
   ]
  },
  {
   "cell_type": "code",
   "execution_count": 19,
   "metadata": {},
   "outputs": [
    {
     "name": "stdout",
     "output_type": "stream",
     "text": [
      "Epoch 1/20\n",
      "31/31 [==============================] - ETA: 0s - loss: 1.6680 - accuracy: 0.3781\n",
      "Epoch 00001: val_accuracy improved from -inf to 0.35988, saving model to checkpoints\n",
      "WARNING:tensorflow:From C:\\ProgramData\\Anaconda3\\lib\\site-packages\\tensorflow\\python\\training\\tracking\\tracking.py:111: Model.state_updates (from tensorflow.python.keras.engine.training) is deprecated and will be removed in a future version.\n",
      "Instructions for updating:\n",
      "This property should not be used in TensorFlow 2.0, as updates are applied automatically.\n",
      "WARNING:tensorflow:From C:\\ProgramData\\Anaconda3\\lib\\site-packages\\tensorflow\\python\\training\\tracking\\tracking.py:111: Layer.updates (from tensorflow.python.keras.engine.base_layer) is deprecated and will be removed in a future version.\n",
      "Instructions for updating:\n",
      "This property should not be used in TensorFlow 2.0, as updates are applied automatically.\n",
      "INFO:tensorflow:Assets written to: checkpoints\\assets\n",
      "31/31 [==============================] - 6s 197ms/step - loss: 1.6680 - accuracy: 0.3781 - val_loss: 1.7021 - val_accuracy: 0.3599\n",
      "Epoch 2/20\n",
      "31/31 [==============================] - ETA: 0s - loss: 1.6325 - accuracy: 0.3972\n",
      "Epoch 00002: val_accuracy improved from 0.35988 to 0.38206, saving model to checkpoints\n",
      "INFO:tensorflow:Assets written to: checkpoints\\assets\n",
      "31/31 [==============================] - 6s 202ms/step - loss: 1.6325 - accuracy: 0.3972 - val_loss: 1.7386 - val_accuracy: 0.3821\n",
      "Epoch 3/20\n",
      "30/31 [============================>.] - ETA: 0s - loss: 1.5737 - accuracy: 0.4487\n",
      "Epoch 00003: val_accuracy did not improve from 0.38206\n",
      "31/31 [==============================] - 4s 116ms/step - loss: 1.5703 - accuracy: 0.4492 - val_loss: 1.6894 - val_accuracy: 0.3649\n",
      "Epoch 4/20\n",
      "31/31 [==============================] - ETA: 0s - loss: 1.5310 - accuracy: 0.4545\n",
      "Epoch 00004: val_accuracy improved from 0.38206 to 0.39718, saving model to checkpoints\n",
      "INFO:tensorflow:Assets written to: checkpoints\\assets\n",
      "31/31 [==============================] - 6s 201ms/step - loss: 1.5310 - accuracy: 0.4545 - val_loss: 1.6503 - val_accuracy: 0.3972\n",
      "Epoch 5/20\n",
      "31/31 [==============================] - ETA: 0s - loss: 1.4968 - accuracy: 0.4360\n",
      "Epoch 00005: val_accuracy did not improve from 0.39718\n",
      "31/31 [==============================] - 4s 126ms/step - loss: 1.4968 - accuracy: 0.4360 - val_loss: 1.6733 - val_accuracy: 0.3730\n",
      "Epoch 6/20\n",
      "31/31 [==============================] - ETA: 0s - loss: 1.5554 - accuracy: 0.4174\n",
      "Epoch 00006: val_accuracy did not improve from 0.39718\n",
      "31/31 [==============================] - 4s 119ms/step - loss: 1.5554 - accuracy: 0.4174 - val_loss: 1.7139 - val_accuracy: 0.3690\n",
      "Epoch 7/20\n",
      "31/31 [==============================] - ETA: 0s - loss: 1.4811 - accuracy: 0.4370\n",
      "Epoch 00007: val_accuracy improved from 0.39718 to 0.39919, saving model to checkpoints\n",
      "INFO:tensorflow:Assets written to: checkpoints\\assets\n",
      "31/31 [==============================] - 6s 194ms/step - loss: 1.4811 - accuracy: 0.4370 - val_loss: 1.6700 - val_accuracy: 0.3992\n",
      "Epoch 8/20\n",
      "30/31 [============================>.] - ETA: 0s - loss: 1.4606 - accuracy: 0.4625\n",
      "Epoch 00008: val_accuracy did not improve from 0.39919\n",
      "31/31 [==============================] - 4s 127ms/step - loss: 1.4559 - accuracy: 0.4649 - val_loss: 1.6635 - val_accuracy: 0.3982\n",
      "Epoch 9/20\n",
      "31/31 [==============================] - ETA: 0s - loss: 1.4511 - accuracy: 0.4617\n",
      "Epoch 00009: val_accuracy improved from 0.39919 to 0.41431, saving model to checkpoints\n",
      "INFO:tensorflow:Assets written to: checkpoints\\assets\n",
      "31/31 [==============================] - 7s 223ms/step - loss: 1.4511 - accuracy: 0.4617 - val_loss: 1.6245 - val_accuracy: 0.4143\n",
      "Epoch 10/20\n",
      "31/31 [==============================] - ETA: 0s - loss: 1.4279 - accuracy: 0.4731\n",
      "Epoch 00010: val_accuracy did not improve from 0.41431\n",
      "31/31 [==============================] - 4s 122ms/step - loss: 1.4279 - accuracy: 0.4731 - val_loss: 1.6415 - val_accuracy: 0.4133\n",
      "Epoch 11/20\n",
      "31/31 [==============================] - ETA: 0s - loss: 1.3713 - accuracy: 0.5083\n",
      "Epoch 00011: val_accuracy did not improve from 0.41431\n",
      "31/31 [==============================] - 4s 125ms/step - loss: 1.3713 - accuracy: 0.5083 - val_loss: 1.6540 - val_accuracy: 0.4012\n",
      "Epoch 12/20\n",
      "31/31 [==============================] - ETA: 0s - loss: 1.4130 - accuracy: 0.4788\n",
      "Epoch 00012: val_accuracy did not improve from 0.41431\n",
      "31/31 [==============================] - 4s 119ms/step - loss: 1.4130 - accuracy: 0.4788 - val_loss: 1.6797 - val_accuracy: 0.3982\n",
      "Epoch 13/20\n",
      "31/31 [==============================] - ETA: 0s - loss: 1.3809 - accuracy: 0.4845\n",
      "Epoch 00013: val_accuracy did not improve from 0.41431\n",
      "31/31 [==============================] - 4s 122ms/step - loss: 1.3809 - accuracy: 0.4845 - val_loss: 1.6524 - val_accuracy: 0.3921\n",
      "Epoch 14/20\n",
      "31/31 [==============================] - ETA: 0s - loss: 1.2768 - accuracy: 0.5433\n",
      "Epoch 00014: val_accuracy improved from 0.41431 to 0.43750, saving model to checkpoints\n",
      "INFO:tensorflow:Assets written to: checkpoints\\assets\n",
      "31/31 [==============================] - 6s 200ms/step - loss: 1.2768 - accuracy: 0.5433 - val_loss: 1.5970 - val_accuracy: 0.4375\n",
      "Epoch 15/20\n",
      "31/31 [==============================] - ETA: 0s - loss: 1.3646 - accuracy: 0.5145\n",
      "Epoch 00015: val_accuracy improved from 0.43750 to 0.44556, saving model to checkpoints\n",
      "INFO:tensorflow:Assets written to: checkpoints\\assets\n",
      "31/31 [==============================] - 6s 197ms/step - loss: 1.3646 - accuracy: 0.5145 - val_loss: 1.5612 - val_accuracy: 0.4456\n",
      "Epoch 16/20\n",
      "31/31 [==============================] - ETA: 0s - loss: 1.2651 - accuracy: 0.5444\n",
      "Epoch 00016: val_accuracy did not improve from 0.44556\n",
      "31/31 [==============================] - 4s 128ms/step - loss: 1.2651 - accuracy: 0.5444 - val_loss: 1.6166 - val_accuracy: 0.4304\n",
      "Epoch 17/20\n",
      "31/31 [==============================] - ETA: 0s - loss: 1.2759 - accuracy: 0.5487\n",
      "Epoch 00017: val_accuracy did not improve from 0.44556\n",
      "31/31 [==============================] - 4s 117ms/step - loss: 1.2759 - accuracy: 0.5487 - val_loss: 1.7379 - val_accuracy: 0.4214\n",
      "Epoch 18/20\n",
      "31/31 [==============================] - ETA: 0s - loss: 1.2932 - accuracy: 0.5383\n",
      "Epoch 00018: val_accuracy did not improve from 0.44556\n",
      "31/31 [==============================] - 4s 119ms/step - loss: 1.2932 - accuracy: 0.5383 - val_loss: 1.7339 - val_accuracy: 0.3992\n",
      "Epoch 19/20\n",
      "31/31 [==============================] - ETA: 0s - loss: 1.2253 - accuracy: 0.5519\n",
      "Epoch 00019: val_accuracy did not improve from 0.44556\n",
      "31/31 [==============================] - 4s 115ms/step - loss: 1.2253 - accuracy: 0.5519 - val_loss: 1.6955 - val_accuracy: 0.4042\n",
      "Epoch 20/20\n",
      "31/31 [==============================] - ETA: 0s - loss: 1.1574 - accuracy: 0.5671\n",
      "Epoch 00020: val_accuracy did not improve from 0.44556\n",
      "31/31 [==============================] - 4s 122ms/step - loss: 1.1574 - accuracy: 0.5671 - val_loss: 1.6203 - val_accuracy: 0.4415\n"
     ]
    },
    {
     "data": {
      "text/plain": [
       "<tensorflow.python.keras.callbacks.History at 0x18546f87f10>"
      ]
     },
     "execution_count": 19,
     "metadata": {},
     "output_type": "execute_result"
    }
   ],
   "source": [
    "steps_per_epoch = len(train_paths) // batch_size\n",
    "validation_steps = len(test_paths) // batch_size\n",
    "\n",
    "model.fit_generator(\n",
    "    train_dataset,\n",
    "    steps_per_epoch=steps_per_epoch,\n",
    "    validation_data=test_dataset,\n",
    "    validation_steps=validation_steps,\n",
    "    epochs=num_epochs,\n",
    "    callbacks = [checkpoint]\n",
    ")"
   ]
  },
  {
   "cell_type": "markdown",
   "metadata": {},
   "source": [
    "https://www.tensorflow.org/tensorboard/r2/image_summaries#setup"
   ]
  }
 ],
 "metadata": {
  "kernelspec": {
   "display_name": "Python 3",
   "language": "python",
   "name": "python3"
  },
  "language_info": {
   "codemirror_mode": {
    "name": "ipython",
    "version": 3
   },
   "file_extension": ".py",
   "mimetype": "text/x-python",
   "name": "python",
   "nbconvert_exporter": "python",
   "pygments_lexer": "ipython3",
   "version": "3.8.5"
  }
 },
 "nbformat": 4,
 "nbformat_minor": 4
}
