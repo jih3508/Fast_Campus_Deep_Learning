{
 "cells": [
  {
   "cell_type": "markdown",
   "metadata": {},
   "source": [
    "## 수치 미분을 이용한 심층 신경망 학습"
   ]
  },
  {
   "cell_type": "code",
   "execution_count": 1,
   "metadata": {},
   "outputs": [],
   "source": [
    "import time\n",
    "import numpy as np"
   ]
  },
  {
   "cell_type": "markdown",
   "metadata": {},
   "source": [
    "## 유틸리티 함수"
   ]
  },
  {
   "cell_type": "code",
   "execution_count": 2,
   "metadata": {},
   "outputs": [],
   "source": [
    "epsilon = 0.0001\n",
    "\n",
    "def _t(x):\n",
    "    return np.transpose(x)\n",
    "\n",
    "def _m(A, B):\n",
    "    return np.matmul(A, B)\n",
    "\n",
    "def sigmoid(x):\n",
    "    return 1 / (1 + np.exp(-x))\n",
    "\n",
    "def mean_squared_error(h, y):\n",
    "    return 1 / 2 * np.mean(np.square(h - y))"
   ]
  },
  {
   "cell_type": "markdown",
   "metadata": {},
   "source": [
    "## 뉴런 구현"
   ]
  },
  {
   "cell_type": "code",
   "execution_count": 3,
   "metadata": {},
   "outputs": [],
   "source": [
    "class Neuron:\n",
    "    def __init__(self, W, b, a):\n",
    "        # Model Parameter\n",
    "        self.W = W\n",
    "        self.b = b\n",
    "        self.a = a\n",
    "        \n",
    "        # Gradients\n",
    "        self.dW = np.zeros_like(self.W)\n",
    "        self.db = np.zeros_like(self.b)\n",
    "\n",
    "    def __call__(self, x):\n",
    "        return self.a(_m(_t(self.W), x) + self.b) # activation((W^T)x + b)"
   ]
  },
  {
   "cell_type": "markdown",
   "metadata": {},
   "source": [
    "## 심층신경망 구현"
   ]
  },
  {
   "cell_type": "code",
   "execution_count": 4,
   "metadata": {},
   "outputs": [],
   "source": [
    "class DNN:\n",
    "    def __init__(self, hidden_depth, num_neuron, num_input, num_output, activation=sigmoid):\n",
    "        def init_var(i, o):\n",
    "            return np.random.normal(0.0, 0.01, (i, o)), np.zeros((o,))\n",
    "\n",
    "        self.sequence = list()\n",
    "        # First hidden layer\n",
    "        W, b = init_var(num_input, num_neuron)\n",
    "        self.sequence.append(Neuron(W, b, activation))\n",
    "        \n",
    "        # Hidden layers\n",
    "        for _ in range(hidden_depth - 1):\n",
    "            W, b = init_var(num_neuron, num_neuron)\n",
    "            self.sequence.append(Neuron(W, b, activation))\n",
    "\n",
    "        # Output layer\n",
    "        W, b = init_var(num_neuron, num_output)\n",
    "        self.sequence.append(Neuron(W, b, activation))\n",
    "\n",
    "    def __call__(self, x):\n",
    "        for layer in self.sequence:\n",
    "            x = layer(x)\n",
    "        return x\n",
    "\n",
    "    def calc_gradient(self, x, y, loss_func):\n",
    "        def get_new_sequence(layer_index, new_neuron):\n",
    "            new_sequence = list()\n",
    "            for i, layer in enumerate(self.sequence):\n",
    "                if i == layer_index:\n",
    "                    new_sequence.append(new_neuron)\n",
    "                else:\n",
    "                    new_sequence.append(layer)\n",
    "            return new_sequence\n",
    "        \n",
    "        def eval_sequence(x, sequence):\n",
    "            for layer in sequence:\n",
    "                x = layer(x)\n",
    "            return x\n",
    "        \n",
    "        loss = loss_func(self(x), y) # self(x) = self.__call__(x)\n",
    "        \n",
    "        for layer_id, layer in enumerate(self.sequence): # iterate layer\n",
    "            for w_i, w in enumerate(layer.W): # iterate W (row)\n",
    "                for w_j, ww in enumerate(w): # iterate W (col)\n",
    "                    W = np.copy(layer.W)\n",
    "                    W[w_i][w_j] = ww + epsilon\n",
    "                    \n",
    "                    new_neuron = Neuron(W, layer.b, layer.a)\n",
    "                    new_seq = get_new_sequence(layer_id, new_neuron)\n",
    "                    h = eval_sequence(x, new_seq)\n",
    "                    \n",
    "                    num_grad = (loss_func(h, y) - loss) / epsilon # (f(x+eps) - f(x)) / epsilon\n",
    "                    layer.dW[w_i][w_j] = num_grad\n",
    "                \n",
    "                for b_i, bb in enumerate(layer.b): \n",
    "                    b = np.copy(layer.b)\n",
    "                    b[b_i] = bb + epsilon\n",
    "                    \n",
    "                    new_neuron = Neuron(layer.W, b, layer.a)\n",
    "                    new_seq = get_new_sequence(layer_id, new_neuron)\n",
    "                    h = eval_sequence(x, new_seq)\n",
    "                    \n",
    "                    num_grad = (loss_func(h, y) - loss) / epsilon # (f(x+eps) - f(x)) / epsilon\n",
    "                    layer.db[b_i] = num_grad                 \n",
    "        return loss    "
   ]
  },
  {
   "cell_type": "markdown",
   "metadata": {},
   "source": [
    "## 경사하강 학습법"
   ]
  },
  {
   "cell_type": "code",
   "execution_count": 5,
   "metadata": {},
   "outputs": [],
   "source": [
    "def gradient_descent(network, x, y, loss_obj, alpha=0.01):\n",
    "    loss = network.calc_gradient(x, y, loss_obj)\n",
    "    for layer in network.sequence:\n",
    "        layer.W += -alpha * layer.dW\n",
    "        layer.b += -alpha * layer.db\n",
    "    return loss"
   ]
  },
  {
   "cell_type": "markdown",
   "metadata": {},
   "source": [
    "## 동작 테스트"
   ]
  },
  {
   "cell_type": "code",
   "execution_count": 6,
   "metadata": {},
   "outputs": [
    {
     "name": "stdout",
     "output_type": "stream",
     "text": [
      "Epoch 0: Test loss 0.08558740995367256\n",
      "Epoch 1: Test loss 0.08510648842621645\n",
      "Epoch 2: Test loss 0.08462827121749117\n",
      "Epoch 3: Test loss 0.08415275882983912\n",
      "Epoch 4: Test loss 0.08367995136322455\n",
      "Epoch 5: Test loss 0.08320984852138792\n",
      "Epoch 6: Test loss 0.08274244961810302\n",
      "Epoch 7: Test loss 0.08227775358349856\n",
      "Epoch 8: Test loss 0.08181575897041907\n",
      "Epoch 9: Test loss 0.08135646396087179\n",
      "Epoch 10: Test loss 0.08089986637250582\n",
      "Epoch 11: Test loss 0.08044596366512835\n",
      "Epoch 12: Test loss 0.07999475294728738\n",
      "Epoch 13: Test loss 0.07954623098284444\n",
      "Epoch 14: Test loss 0.07910039419762277\n",
      "Epoch 15: Test loss 0.07865723868603511\n",
      "Epoch 16: Test loss 0.07821676021776396\n",
      "Epoch 17: Test loss 0.07777895424440733\n",
      "Epoch 18: Test loss 0.07734381590619928\n",
      "Epoch 19: Test loss 0.07691134003865902\n",
      "Epoch 20: Test loss 0.07648152117928589\n",
      "Epoch 21: Test loss 0.07605435357423632\n",
      "Epoch 22: Test loss 0.07562983118498759\n",
      "Epoch 23: Test loss 0.07520794769496973\n",
      "Epoch 24: Test loss 0.07478869651621106\n",
      "Epoch 25: Test loss 0.07437207079593074\n",
      "Epoch 26: Test loss 0.073958063423124\n",
      "Epoch 27: Test loss 0.07354666703510145\n",
      "Epoch 28: Test loss 0.0731378740240022\n",
      "Epoch 29: Test loss 0.0727316765432707\n",
      "Epoch 30: Test loss 0.0723280665140874\n",
      "Epoch 31: Test loss 0.07192703563175186\n",
      "Epoch 32: Test loss 0.07152857537203439\n",
      "Epoch 33: Test loss 0.07113267699746254\n",
      "Epoch 34: Test loss 0.07073933156355518\n",
      "Epoch 35: Test loss 0.07034852992501699\n",
      "Epoch 36: Test loss 0.0699602627418561\n",
      "Epoch 37: Test loss 0.06957452048545885\n",
      "Epoch 38: Test loss 0.06919129344458196\n",
      "Epoch 39: Test loss 0.06881057173131093\n",
      "Epoch 40: Test loss 0.06843234528691786\n",
      "Epoch 41: Test loss 0.06805660388767942\n",
      "Epoch 42: Test loss 0.06768333715061148\n",
      "Epoch 43: Test loss 0.06731253453913057\n",
      "Epoch 44: Test loss 0.06694418536865666\n",
      "Epoch 45: Test loss 0.06657827881212448\n",
      "Epoch 46: Test loss 0.06621480390543603\n",
      "Epoch 47: Test loss 0.06585374955283003\n",
      "Epoch 48: Test loss 0.06549510453216117\n",
      "Epoch 49: Test loss 0.06513885750013043\n",
      "Epoch 50: Test loss 0.064784996997409\n",
      "Epoch 51: Test loss 0.06443351145369981\n",
      "Epoch 52: Test loss 0.06408438919270684\n",
      "Epoch 53: Test loss 0.06373761843702533\n",
      "Epoch 54: Test loss 0.06339318731296487\n",
      "Epoch 55: Test loss 0.0630510838552715\n",
      "Epoch 56: Test loss 0.06271129601177755\n",
      "Epoch 57: Test loss 0.06237381164795867\n",
      "Epoch 58: Test loss 0.062038618551436296\n",
      "Epoch 59: Test loss 0.06170570443635893\n",
      "Epoch 60: Test loss 0.061375056947732626\n",
      "Epoch 61: Test loss 0.06104666366564287\n",
      "Epoch 62: Test loss 0.060720512109417875\n",
      "Epoch 63: Test loss 0.060396589741688954\n",
      "Epoch 64: Test loss 0.060074883972388096\n",
      "Epoch 65: Test loss 0.059755382162646815\n",
      "Epoch 66: Test loss 0.059438071628618395\n",
      "Epoch 67: Test loss 0.05912293964522855\n",
      "Epoch 68: Test loss 0.05880997344982482\n",
      "Epoch 69: Test loss 0.05849916024576876\n",
      "Epoch 70: Test loss 0.05819048720593374\n",
      "Epoch 71: Test loss 0.05788394147612805\n",
      "Epoch 72: Test loss 0.057579510178439555\n",
      "Epoch 73: Test loss 0.057277180414489634\n",
      "Epoch 74: Test loss 0.05697693926864431\n",
      "Epoch 75: Test loss 0.0566787738111007\n",
      "Epoch 76: Test loss 0.056382671100939405\n",
      "Epoch 77: Test loss 0.05608861818908464\n",
      "Epoch 78: Test loss 0.055796602121180025\n",
      "Epoch 79: Test loss 0.055506609940408014\n",
      "Epoch 80: Test loss 0.05521862869022326\n",
      "Epoch 81: Test loss 0.05493264541703569\n",
      "Epoch 82: Test loss 0.05464864717279342\n",
      "Epoch 83: Test loss 0.05436662101750931\n",
      "Epoch 84: Test loss 0.05408655402172745\n",
      "Epoch 85: Test loss 0.05380843326890358\n",
      "Epoch 86: Test loss 0.05353224585773578\n",
      "Epoch 87: Test loss 0.05325797890441206\n",
      "Epoch 88: Test loss 0.05298561954480447\n",
      "Epoch 89: Test loss 0.052715154936599735\n",
      "Epoch 90: Test loss 0.05244657226134884\n",
      "Epoch 91: Test loss 0.05217985872648454\n",
      "Epoch 92: Test loss 0.0519150015672426\n",
      "Epoch 93: Test loss 0.051651988048555295\n",
      "Epoch 94: Test loss 0.051390805466859445\n",
      "Epoch 95: Test loss 0.05113144115185931\n",
      "Epoch 96: Test loss 0.05087388246823734\n",
      "Epoch 97: Test loss 0.05061811681728256\n",
      "Epoch 98: Test loss 0.05036413163850551\n",
      "Epoch 99: Test loss 0.05011191441116002\n",
      "60.131996154785156 seconds elapsed.\n"
     ]
    }
   ],
   "source": [
    "x = np.random.normal(0.0, 1.0, (10,))\n",
    "y = np.random.normal(0.0, 1.0, (2,))\n",
    "\n",
    "dnn = DNN(hidden_depth=5, num_neuron=32, num_input=10, num_output=2, activation=sigmoid)\n",
    "\n",
    "t = time.time()\n",
    "for epoch in range(100):\n",
    "    loss = gradient_descent(dnn, x, y, mean_squared_error, 0.01)\n",
    "    print('Epoch {}: Test loss {}'.format(epoch, loss))\n",
    "print('{} seconds elapsed.'.format(time.time() - t))"
   ]
  }
 ],
 "metadata": {
  "kernelspec": {
   "display_name": "Python 3",
   "language": "python",
   "name": "python3"
  },
  "language_info": {
   "codemirror_mode": {
    "name": "ipython",
    "version": 3
   },
   "file_extension": ".py",
   "mimetype": "text/x-python",
   "name": "python",
   "nbconvert_exporter": "python",
   "pygments_lexer": "ipython3",
   "version": "3.8.5"
  }
 },
 "nbformat": 4,
 "nbformat_minor": 2
}
