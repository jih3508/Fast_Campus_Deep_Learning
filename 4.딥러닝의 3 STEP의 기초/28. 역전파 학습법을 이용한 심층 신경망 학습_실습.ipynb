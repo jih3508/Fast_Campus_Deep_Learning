{
 "cells": [
  {
   "cell_type": "markdown",
   "metadata": {},
   "source": [
    "## 수치 미분을 이용한 심층 신경망 학습"
   ]
  },
  {
   "cell_type": "code",
   "execution_count": 1,
   "metadata": {},
   "outputs": [],
   "source": [
    "import time\n",
    "import numpy as np"
   ]
  },
  {
   "cell_type": "markdown",
   "metadata": {},
   "source": [
    "## 유틸리티 함수"
   ]
  },
  {
   "cell_type": "code",
   "execution_count": 2,
   "metadata": {},
   "outputs": [],
   "source": [
    "def _t(x):\n",
    "    return np.transpose(x)\n",
    "\n",
    "def _m(A, B):\n",
    "    return np.matmul(A, B)"
   ]
  },
  {
   "cell_type": "markdown",
   "metadata": {},
   "source": [
    "## Sigmoid 구현"
   ]
  },
  {
   "cell_type": "code",
   "execution_count": 3,
   "metadata": {},
   "outputs": [],
   "source": [
    "class Sigmoid:\n",
    "    def __init__(self):\n",
    "        self.last_o = 1\n",
    "\n",
    "    def __call__(self, x):\n",
    "        self.last_o = 1 / (1.0 + np.exp(-x))\n",
    "        return self.last_o\n",
    "\n",
    "    def grad(self): # sigmoid(x)(1 - sigmoid(x))\n",
    "        return self.last_o * (1 - self.last_o)"
   ]
  },
  {
   "cell_type": "markdown",
   "metadata": {},
   "source": [
    "## Mean Squared Error 구현"
   ]
  },
  {
   "cell_type": "code",
   "execution_count": 4,
   "metadata": {},
   "outputs": [],
   "source": [
    "class MeanSquaredError:\n",
    "    def __init__(self):\n",
    "        # gradient\n",
    "        self.dh = 1\n",
    "        self.last_diff = 1\n",
    "        \n",
    "    def __call__(self, h, y): # 1/2 * mean(h - y)^2\n",
    "        self.last_diff = h - y\n",
    "        return 1 / 2 * np.mean(np.square(h - y))\n",
    "\n",
    "    def grad(self): # h - y\n",
    "        return self.last_diff"
   ]
  },
  {
   "cell_type": "markdown",
   "metadata": {},
   "source": [
    "## 뉴런 구현"
   ]
  },
  {
   "cell_type": "code",
   "execution_count": 5,
   "metadata": {},
   "outputs": [],
   "source": [
    "class Neuron:\n",
    "    def __init__(self, W, b, a_obj):\n",
    "        # Model parameters\n",
    "        self.W = W\n",
    "        self.b = b\n",
    "        self.a = a_obj()\n",
    "        \n",
    "        # gradient\n",
    "        self.dW = np.zeros_like(self.W)\n",
    "        self.db = np.zeros_like(self.b)\n",
    "        self.dh = np.zeros_like(_t(self.W))\n",
    "        \n",
    "        self.last_x = np.zeros((self.W.shape[0])) # W 미분을 하기 위해서 마지막 미분을 저장\n",
    "\n",
    "    def __call__(self, x):\n",
    "        self.last_x = x\n",
    "        self.last_h = _m(_t(self.W), x) + self.b\n",
    "        return self.a(self.last_h)\n",
    "\n",
    "    def grad(self): # dy/dh = W \n",
    "        return self.W * self.a.grad()\n",
    "\n",
    "    def grad_W(self, dh): \n",
    "        grad = np.ones_like(self.W)\n",
    "        grad_a = self.a.grad()\n",
    "        for j in range(grad.shape[1]): # dy/dw = x \n",
    "            grad[:, j] = dh[j] * grad_a[j] * self.last_x\n",
    "        return grad\n",
    "\n",
    "    def grad_b(self, dh):\n",
    "        return dh * self.a.grad()"
   ]
  },
  {
   "cell_type": "markdown",
   "metadata": {},
   "source": [
    "## 심층신경망 구현"
   ]
  },
  {
   "cell_type": "code",
   "execution_count": 6,
   "metadata": {},
   "outputs": [],
   "source": [
    "class DNN:\n",
    "    def __init__(self, hidden_depth, num_neuron, input, output, activation=Sigmoid):\n",
    "        def init_var(i, o):\n",
    "            return np.random.normal(0.0, 0.01, (i, o)), np.zeros((o,))\n",
    "\n",
    "        self.sequence = list()\n",
    "        # First hidden layer\n",
    "        W, b = init_var(input, num_neuron)\n",
    "        self.sequence.append(Neuron(W, b, activation))\n",
    "\n",
    "        # Hidden Layers\n",
    "        for index in range(hidden_depth):\n",
    "            W, b = init_var(num_neuron, num_neuron)\n",
    "            self.sequence.append(Neuron(W, b, activation))\n",
    "\n",
    "        # Output Layer\n",
    "        W, b = init_var(num_neuron, output)\n",
    "        self.sequence.append(Neuron(W, b, activation))\n",
    "\n",
    "    def __call__(self, x):\n",
    "        for layer in self.sequence:\n",
    "            x = layer(x)\n",
    "        return x\n",
    "\n",
    "    def calc_gradient(self, loss_obj):\n",
    "        loss_obj.dh = loss_obj.grad()\n",
    "        self.sequence.append(loss_obj)\n",
    "        \n",
    "        # back-prop loop\n",
    "        for i in range(len(self.sequence) - 1, 0, -1):\n",
    "            l1 = self.sequence[i]\n",
    "            l0 = self.sequence[i - 1]\n",
    "            \n",
    "            l0.dh = _m(l0.grad(), l1.dh)\n",
    "            l0.dW = l0.grad_W(l1.dh)\n",
    "            l0.db =  l0.grad_b(l1.dh)\n",
    "            \n",
    "        self.sequence.remove(loss_obj)"
   ]
  },
  {
   "cell_type": "markdown",
   "metadata": {},
   "source": [
    "## 경사하강 학습법"
   ]
  },
  {
   "cell_type": "code",
   "execution_count": 7,
   "metadata": {},
   "outputs": [],
   "source": [
    "def gradient_descent(network, x, y, loss_obj, alpha=0.01):\n",
    "    loss = loss_obj(network(x), y)  # Forward inference\n",
    "    network.calc_gradient(loss_obj)  # Back-propagation\n",
    "    for layer in network.sequence:\n",
    "        layer.W += -alpha * layer.dW\n",
    "        layer.b += -alpha * layer.db\n",
    "    return loss"
   ]
  },
  {
   "cell_type": "markdown",
   "metadata": {},
   "source": [
    "## 동작 테스트"
   ]
  },
  {
   "cell_type": "code",
   "execution_count": 8,
   "metadata": {},
   "outputs": [
    {
     "name": "stdout",
     "output_type": "stream",
     "text": [
      "Epoch 0: Test loss 0.2701823841166025\n",
      "Epoch 1: Test loss 0.2671548907148461\n",
      "Epoch 2: Test loss 0.2641634555757618\n",
      "Epoch 3: Test loss 0.2612088640953414\n",
      "Epoch 4: Test loss 0.25829182356703995\n",
      "Epoch 5: Test loss 0.2554129640741448\n",
      "Epoch 6: Test loss 0.25257283971723904\n",
      "Epoch 7: Test loss 0.2497719301483175\n",
      "Epoch 8: Test loss 0.2470106423820294\n",
      "Epoch 9: Test loss 0.2442893128539005\n",
      "Epoch 10: Test loss 0.24160820969520846\n",
      "Epoch 11: Test loss 0.23896753519440342\n",
      "Epoch 12: Test loss 0.23636742841553743\n",
      "Epoch 13: Test loss 0.23380796794505881\n",
      "Epoch 14: Test loss 0.23128917473948474\n",
      "Epoch 15: Test loss 0.22881101504784496\n",
      "Epoch 16: Test loss 0.22637340338435216\n",
      "Epoch 17: Test loss 0.22397620552844974\n",
      "Epoch 18: Test loss 0.22161924153118248\n",
      "Epoch 19: Test loss 0.21930228870868587\n",
      "Epoch 20: Test loss 0.21702508460547118\n",
      "Epoch 21: Test loss 0.21478732991205665\n",
      "Epoch 22: Test loss 0.21258869132333955\n",
      "Epoch 23: Test loss 0.21042880432590172\n",
      "Epoch 24: Test loss 0.20830727590415765\n",
      "Epoch 25: Test loss 0.2062236871569029\n",
      "Epoch 26: Test loss 0.20417759581735453\n",
      "Epoch 27: Test loss 0.20216853867122314\n",
      "Epoch 28: Test loss 0.20019603386868037\n",
      "Epoch 29: Test loss 0.198259583127307\n",
      "Epoch 30: Test loss 0.1963586738242102\n",
      "Epoch 31: Test loss 0.19449278097649228\n",
      "Epoch 32: Test loss 0.19266136911013554\n",
      "Epoch 33: Test loss 0.19086389401814735\n",
      "Epoch 34: Test loss 0.18909980440948515\n",
      "Epoch 35: Test loss 0.18736854345086498\n",
      "Epoch 36: Test loss 0.18566955020404893\n",
      "Epoch 37: Test loss 0.18400226096161668\n",
      "Epoch 38: Test loss 0.18236611048456455\n",
      "Epoch 39: Test loss 0.18076053314533527\n",
      "Epoch 40: Test loss 0.1791849639800895\n",
      "Epoch 41: Test loss 0.17763883965417243\n",
      "Epoch 42: Test loss 0.17612159934482832\n",
      "Epoch 43: Test loss 0.17463268554526518\n",
      "Epoch 44: Test loss 0.17317154479418673\n",
      "Epoch 45: Test loss 0.1717376283348893\n",
      "Epoch 46: Test loss 0.17033039270797073\n",
      "Epoch 47: Test loss 0.168949300281628\n",
      "Epoch 48: Test loss 0.16759381972342458\n",
      "Epoch 49: Test loss 0.16626342641730243\n",
      "Epoch 50: Test loss 0.16495760282948657\n",
      "Epoch 51: Test loss 0.16367583882680167\n",
      "Epoch 52: Test loss 0.1624176319507754\n",
      "Epoch 53: Test loss 0.161182487650759\n",
      "Epoch 54: Test loss 0.15996991947914724\n",
      "Epoch 55: Test loss 0.15877944925162463\n",
      "Epoch 56: Test loss 0.15761060717521833\n",
      "Epoch 57: Test loss 0.156462931946783\n",
      "Epoch 58: Test loss 0.1553359708243991\n",
      "Epoch 59: Test loss 0.15422927967401626\n",
      "Epoch 60: Test loss 0.15314242299353634\n",
      "Epoch 61: Test loss 0.15207497391638977\n",
      "Epoch 62: Test loss 0.15102651419652882\n",
      "Epoch 63: Test loss 0.14999663417663275\n",
      "Epoch 64: Test loss 0.1489849327411979\n",
      "Epoch 65: Test loss 0.1479910172560699\n",
      "Epoch 66: Test loss 0.14701450349586312\n",
      "Epoch 67: Test loss 0.14605501556060757\n",
      "Epoch 68: Test loss 0.14511218578286364\n",
      "Epoch 69: Test loss 0.1441856546264507\n",
      "Epoch 70: Test loss 0.14327507057784597\n",
      "Epoch 71: Test loss 0.14238009003122715\n",
      "Epoch 72: Test loss 0.1415003771680531\n",
      "Epoch 73: Test loss 0.14063560383200363\n",
      "Epoch 74: Test loss 0.13978544940002896\n",
      "Epoch 75: Test loss 0.13894960065019796\n",
      "Epoch 76: Test loss 0.1381277516269701\n",
      "Epoch 77: Test loss 0.13731960350446412\n",
      "Epoch 78: Test loss 0.13652486444824052\n",
      "Epoch 79: Test loss 0.13574324947607022\n",
      "Epoch 80: Test loss 0.13497448031811368\n",
      "Epoch 81: Test loss 0.13421828527689536\n",
      "Epoch 82: Test loss 0.1334743990874188\n",
      "Epoch 83: Test loss 0.13274256277773294\n",
      "Epoch 84: Test loss 0.13202252353022664\n",
      "Epoch 85: Test loss 0.1313140345438992\n",
      "Epoch 86: Test loss 0.13061685489782487\n",
      "Epoch 87: Test loss 0.12993074941600777\n",
      "Epoch 88: Test loss 0.1292554885337953\n",
      "Epoch 89: Test loss 0.1285908481660002\n",
      "Epoch 90: Test loss 0.12793660957686065\n",
      "Epoch 91: Test loss 0.12729255925194913\n",
      "Epoch 92: Test loss 0.12665848877212582\n",
      "Epoch 93: Test loss 0.12603419468961602\n",
      "Epoch 94: Test loss 0.12541947840627818\n",
      "Epoch 95: Test loss 0.12481414605411635\n",
      "Epoch 96: Test loss 0.12421800837808047\n",
      "Epoch 97: Test loss 0.12363088062118671\n",
      "Epoch 98: Test loss 0.1230525824119814\n",
      "Epoch 99: Test loss 0.12248293765436438\n",
      "0.09199929237365723 seconds elapsed.\n"
     ]
    }
   ],
   "source": [
    "x = np.random.normal(0.0, 1.0, (10,))\n",
    "y = np.random.normal(0.0, 1.0, (2,))\n",
    "\n",
    "t = time.time()\n",
    "dnn = DNN(hidden_depth=5, num_neuron=32, input=10, output=2, activation=Sigmoid)\n",
    "loss_obj = MeanSquaredError()\n",
    "for epoch in range(100):\n",
    "    loss = gradient_descent(dnn, x, y, loss_obj, alpha=0.01)\n",
    "    print('Epoch {}: Test loss {}'.format(epoch, loss))\n",
    "print('{} seconds elapsed.'.format(time.time() - t))"
   ]
  }
 ],
 "metadata": {
  "kernelspec": {
   "display_name": "Python 3",
   "language": "python",
   "name": "python3"
  },
  "language_info": {
   "codemirror_mode": {
    "name": "ipython",
    "version": 3
   },
   "file_extension": ".py",
   "mimetype": "text/x-python",
   "name": "python",
   "nbconvert_exporter": "python",
   "pygments_lexer": "ipython3",
   "version": "3.8.5"
  }
 },
 "nbformat": 4,
 "nbformat_minor": 2
}
