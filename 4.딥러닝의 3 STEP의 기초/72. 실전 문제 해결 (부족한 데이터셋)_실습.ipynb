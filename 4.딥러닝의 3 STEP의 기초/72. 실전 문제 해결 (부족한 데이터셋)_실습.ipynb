{
 "cells": [
  {
   "cell_type": "markdown",
   "metadata": {},
   "source": [
    "# 실전 문제 해결 (부족한 데이터셋)"
   ]
  },
  {
   "cell_type": "code",
   "execution_count": 1,
   "metadata": {},
   "outputs": [],
   "source": [
    "import tensorflow as tf\n",
    "import numpy as np\n",
    "import random\n",
    "from imblearn.over_sampling import BorderlineSMOTE"
   ]
  },
  {
   "cell_type": "markdown",
   "metadata": {},
   "source": [
    "## 하이퍼 파라미터"
   ]
  },
  {
   "cell_type": "code",
   "execution_count": 2,
   "metadata": {},
   "outputs": [],
   "source": [
    "EPOCHS = 20"
   ]
  },
  {
   "cell_type": "markdown",
   "metadata": {},
   "source": [
    "## 모델 정의"
   ]
  },
  {
   "cell_type": "code",
   "execution_count": 3,
   "metadata": {},
   "outputs": [],
   "source": [
    "class MyModel(tf.keras.Model):\n",
    "    def __init__(self):\n",
    "        super(MyModel, self).__init__()\n",
    "        self.flatten = tf.keras.layers.Flatten()\n",
    "        self.dense1 = tf.keras.layers.Dense(1024, activation='relu')\n",
    "        self.dense2 = tf.keras.layers.Dense(1, activation='sigmoid')\n",
    "\n",
    "    def call(self, x, training=False, mask=None):\n",
    "        x = self.flatten(x)\n",
    "        x = self.dense1(x)\n",
    "        return self.dense2(x)"
   ]
  },
  {
   "cell_type": "markdown",
   "metadata": {},
   "source": [
    "## 데이터셋 준비 (불균형한 데이터셋)"
   ]
  },
  {
   "cell_type": "code",
   "execution_count": 4,
   "metadata": {},
   "outputs": [],
   "source": [
    "cifar10 = tf.keras.datasets.cifar10\n",
    "\n",
    "(x_train, y_train), (x_test, y_test) = cifar10.load_data()\n",
    "x_train, x_test = x_train / 255.0, x_test / 255.0\n",
    "\n",
    "# TODO: 학습 데이터를 Imbalanced small dataset으로 변형하기\n",
    "x_train_small = list()\n",
    "y_train_small = list()\n",
    "for x, y in zip(x_train, y_train):\n",
    "    if (y == 0 and random.randint(0, 100) < 10) or y == 1:\n",
    "        x_train_small.append(x[:])\n",
    "        y_train_small.append(y)\n",
    "        \n",
    "x_test_small = list()\n",
    "y_test_small = list()\n",
    "\n",
    "for x, y in zip(x_test, y_test):\n",
    "    if y == 0 or y == 1:\n",
    "        x_test_small.append(x[:])\n",
    "        y_test_small.append(y)\n",
    "\n",
    "x_train = np.stack(x_train_small, axis=0)\n",
    "y_train = np.stack(y_train_small, axis=0)\n",
    "\n",
    "x_test = np.stack(x_test_small, axis = 0)\n",
    "y_test = np.stack(y_test_small, axis = 0)\n",
    "        \n",
    "train_ds = tf.data.Dataset.from_tensor_slices((x_train, y_train)).shuffle(10000).batch(32).prefetch(2048)\n",
    "test_ds = tf.data.Dataset.from_tensor_slices((x_test, y_test)).batch(32).prefetch(2048)"
   ]
  },
  {
   "cell_type": "markdown",
   "metadata": {},
   "source": [
    "## Keras API 모델 학습 (불균형한 데이터셋)"
   ]
  },
  {
   "cell_type": "code",
   "execution_count": 5,
   "metadata": {
    "scrolled": true
   },
   "outputs": [
    {
     "name": "stdout",
     "output_type": "stream",
     "text": [
      "Epoch 1/20\n",
      "WARNING:tensorflow:Layer my_model is casting an input tensor from dtype float64 to the layer's dtype of float32, which is new behavior in TensorFlow 2.  The layer has dtype float32 because its dtype defaults to floatx.\n",
      "\n",
      "If you intended to run this layer in float32, you can safely ignore this warning. If in doubt, this warning is likely only an issue if you are porting a TensorFlow 1.X model to TensorFlow 2.\n",
      "\n",
      "To change all layers to have dtype float64 by default, call `tf.keras.backend.set_floatx('float64')`. To change just this layer, pass dtype='float64' to the layer constructor. If you are the author of this layer, you can disable autocasting by passing autocast=False to the base Layer constructor.\n",
      "\n",
      "171/171 [==============================] - 4s 23ms/step - loss: 0.3491 - accuracy: 0.9135 - precision: 0.9286 - recall: 0.9808 - val_loss: 1.3218 - val_accuracy: 0.5345 - val_precision: 0.5180 - val_recall: 0.9940\n",
      "Epoch 2/20\n",
      "171/171 [==============================] - 4s 22ms/step - loss: 0.2551 - accuracy: 0.9206 - precision: 0.9342 - recall: 0.9824 - val_loss: 0.4514 - val_accuracy: 0.8045 - val_precision: 0.7908 - val_recall: 0.8280\n",
      "Epoch 3/20\n",
      "171/171 [==============================] - 4s 22ms/step - loss: 0.2336 - accuracy: 0.9230 - precision: 0.9353 - recall: 0.9838 - val_loss: 0.7005 - val_accuracy: 0.6960 - val_precision: 0.6253 - val_recall: 0.9780\n",
      "Epoch 4/20\n",
      "171/171 [==============================] - 4s 21ms/step - loss: 0.2138 - accuracy: 0.9285 - precision: 0.9409 - recall: 0.9836 - val_loss: 1.5553 - val_accuracy: 0.5145 - val_precision: 0.5074 - val_recall: 1.0000\n",
      "Epoch 5/20\n",
      "171/171 [==============================] - 4s 22ms/step - loss: 0.2026 - accuracy: 0.9290 - precision: 0.9396 - recall: 0.9858 - val_loss: 1.0451 - val_accuracy: 0.6000 - val_precision: 0.5560 - val_recall: 0.9930\n",
      "Epoch 6/20\n",
      "171/171 [==============================] - 4s 21ms/step - loss: 0.1877 - accuracy: 0.9340 - precision: 0.9453 - recall: 0.9848 - val_loss: 0.7196 - val_accuracy: 0.6950 - val_precision: 0.6239 - val_recall: 0.9820\n",
      "Epoch 7/20\n",
      "171/171 [==============================] - 4s 21ms/step - loss: 0.1877 - accuracy: 0.9345 - precision: 0.9469 - recall: 0.9836 - val_loss: 0.6586 - val_accuracy: 0.7105 - val_precision: 0.6361 - val_recall: 0.9840\n",
      "Epoch 8/20\n",
      "171/171 [==============================] - 4s 22ms/step - loss: 0.1714 - accuracy: 0.9415 - precision: 0.9503 - recall: 0.9876 - val_loss: 0.6410 - val_accuracy: 0.7435 - val_precision: 0.6667 - val_recall: 0.9740\n",
      "Epoch 9/20\n",
      "171/171 [==============================] - 4s 22ms/step - loss: 0.1845 - accuracy: 0.9334 - precision: 0.9471 - recall: 0.9820 - val_loss: 0.6497 - val_accuracy: 0.7380 - val_precision: 0.6604 - val_recall: 0.9800\n",
      "Epoch 10/20\n",
      "171/171 [==============================] - 4s 22ms/step - loss: 0.1721 - accuracy: 0.9402 - precision: 0.9513 - recall: 0.9850 - val_loss: 0.7793 - val_accuracy: 0.6520 - val_precision: 0.5904 - val_recall: 0.9930\n",
      "Epoch 11/20\n",
      "171/171 [==============================] - 4s 24ms/step - loss: 0.1643 - accuracy: 0.9420 - precision: 0.9514 - recall: 0.9870 - val_loss: 0.6460 - val_accuracy: 0.7390 - val_precision: 0.6608 - val_recall: 0.9820\n",
      "Epoch 12/20\n",
      "171/171 [==============================] - 4s 21ms/step - loss: 0.1711 - accuracy: 0.9415 - precision: 0.9516 - recall: 0.9862 - val_loss: 0.6727 - val_accuracy: 0.7110 - val_precision: 0.6360 - val_recall: 0.9870\n",
      "Epoch 13/20\n",
      "171/171 [==============================] - 4s 21ms/step - loss: 0.1556 - accuracy: 0.9450 - precision: 0.9559 - recall: 0.9852 - val_loss: 0.6058 - val_accuracy: 0.7525 - val_precision: 0.6740 - val_recall: 0.9780\n",
      "Epoch 14/20\n",
      "171/171 [==============================] - 3s 20ms/step - loss: 0.1466 - accuracy: 0.9486 - precision: 0.9581 - recall: 0.9870 - val_loss: 0.5241 - val_accuracy: 0.7855 - val_precision: 0.7107 - val_recall: 0.9630\n",
      "Epoch 15/20\n",
      "171/171 [==============================] - 4s 21ms/step - loss: 0.1499 - accuracy: 0.9455 - precision: 0.9565 - recall: 0.9852 - val_loss: 0.7731 - val_accuracy: 0.7185 - val_precision: 0.6423 - val_recall: 0.9860\n",
      "Epoch 16/20\n",
      "171/171 [==============================] - 4s 22ms/step - loss: 0.1432 - accuracy: 0.9470 - precision: 0.9591 - recall: 0.9840 - val_loss: 0.8495 - val_accuracy: 0.7075 - val_precision: 0.6340 - val_recall: 0.9820\n",
      "Epoch 17/20\n",
      "171/171 [==============================] - 4s 21ms/step - loss: 0.1404 - accuracy: 0.9460 - precision: 0.9574 - recall: 0.9848 - val_loss: 0.5934 - val_accuracy: 0.7740 - val_precision: 0.6949 - val_recall: 0.9770\n",
      "Epoch 18/20\n",
      "171/171 [==============================] - 4s 21ms/step - loss: 0.1397 - accuracy: 0.9464 - precision: 0.9581 - recall: 0.9844 - val_loss: 0.9963 - val_accuracy: 0.6405 - val_precision: 0.5822 - val_recall: 0.9950\n",
      "Epoch 19/20\n",
      "171/171 [==============================] - 4s 21ms/step - loss: 0.1325 - accuracy: 0.9515 - precision: 0.9611 - recall: 0.9870 - val_loss: 1.0246 - val_accuracy: 0.6525 - val_precision: 0.5905 - val_recall: 0.9950\n",
      "Epoch 20/20\n",
      "171/171 [==============================] - 4s 21ms/step - loss: 0.1370 - accuracy: 0.9486 - precision: 0.9606 - recall: 0.9842 - val_loss: 0.6697 - val_accuracy: 0.7605 - val_precision: 0.6800 - val_recall: 0.9840\n"
     ]
    },
    {
     "data": {
      "text/plain": [
       "<tensorflow.python.keras.callbacks.History at 0x2804c748c10>"
      ]
     },
     "execution_count": 5,
     "metadata": {},
     "output_type": "execute_result"
    }
   ],
   "source": [
    "model = MyModel()\n",
    "model.compile(optimizer='adam',\n",
    "              loss='binary_crossentropy',\n",
    "              metrics=['accuracy',\n",
    "                      tf.keras.metrics.Precision(name='precision'),\n",
    "                      tf.keras.metrics.Recall(name='recall')])\n",
    "model.fit(train_ds, validation_data=test_ds, epochs=EPOCHS)"
   ]
  },
  {
   "cell_type": "markdown",
   "metadata": {},
   "source": [
    "## 데이터셋 준비 (BorderlineSMOTE)"
   ]
  },
  {
   "cell_type": "code",
   "execution_count": 6,
   "metadata": {},
   "outputs": [],
   "source": [
    "# TODO: BorderlineSMOTE 적용하기\n",
    "x_train = x_train.reshape((x_train.shape[0], x_train.shape[1] * x_train.shape[2] * x_train.shape[3])).astype(np.float32)\n",
    "x_test = x_test.reshape((x_test.shape[0], x_test.shape[1] * x_test.shape[2] * x_test.shape[3])).astype(np.float32)\n",
    "smote = BorderlineSMOTE()\n",
    "x_train, y_train = smote.fit_resample(x_train, y_train)\n",
    "\n",
    "\n",
    "train_ds = tf.data.Dataset.from_tensor_slices((x_train, y_train)).shuffle(10000).batch(32).prefetch(2048)\n",
    "test_ds = tf.data.Dataset.from_tensor_slices((x_test, y_test)).batch(32).prefetch(2048)"
   ]
  },
  {
   "cell_type": "markdown",
   "metadata": {},
   "source": [
    "## Keras API 모델 학습 (BorderlineSMOTE)"
   ]
  },
  {
   "cell_type": "code",
   "execution_count": 7,
   "metadata": {},
   "outputs": [
    {
     "name": "stdout",
     "output_type": "stream",
     "text": [
      "Epoch 1/20\n",
      "313/313 [==============================] - 7s 21ms/step - loss: 0.6646 - accuracy: 0.7219 - precision: 0.7257 - recall: 0.7134 - val_loss: 0.5602 - val_accuracy: 0.7430 - val_precision: 0.8958 - val_recall: 0.5500\n",
      "Epoch 2/20\n",
      "313/313 [==============================] - 6s 20ms/step - loss: 0.4229 - accuracy: 0.8136 - precision: 0.8301 - recall: 0.7886 - val_loss: 0.4756 - val_accuracy: 0.7820 - val_precision: 0.7402 - val_recall: 0.8690\n",
      "Epoch 3/20\n",
      "313/313 [==============================] - 7s 23ms/step - loss: 0.3439 - accuracy: 0.8580 - precision: 0.8828 - recall: 0.8256 - val_loss: 0.4468 - val_accuracy: 0.8020 - val_precision: 0.7687 - val_recall: 0.8640\n",
      "Epoch 4/20\n",
      "313/313 [==============================] - 6s 21ms/step - loss: 0.2819 - accuracy: 0.8920 - precision: 0.9188 - recall: 0.8600 - val_loss: 0.4610 - val_accuracy: 0.8095 - val_precision: 0.7657 - val_recall: 0.8920\n",
      "Epoch 5/20\n",
      "313/313 [==============================] - 7s 21ms/step - loss: 0.2580 - accuracy: 0.8997 - precision: 0.9235 - recall: 0.8716 - val_loss: 0.4822 - val_accuracy: 0.8095 - val_precision: 0.7680 - val_recall: 0.8870\n",
      "Epoch 6/20\n",
      "313/313 [==============================] - 6s 21ms/step - loss: 0.2264 - accuracy: 0.9167 - precision: 0.9382 - recall: 0.8922 - val_loss: 0.4260 - val_accuracy: 0.8310 - val_precision: 0.8177 - val_recall: 0.8520\n",
      "Epoch 7/20\n",
      "313/313 [==============================] - 7s 22ms/step - loss: 0.1813 - accuracy: 0.9380 - precision: 0.9599 - recall: 0.9142 - val_loss: 0.4932 - val_accuracy: 0.8220 - val_precision: 0.7674 - val_recall: 0.9240\n",
      "Epoch 8/20\n",
      "313/313 [==============================] - 7s 21ms/step - loss: 0.1725 - accuracy: 0.9405 - precision: 0.9605 - recall: 0.9188 - val_loss: 0.6455 - val_accuracy: 0.8010 - val_precision: 0.7287 - val_recall: 0.9590\n",
      "Epoch 9/20\n",
      "313/313 [==============================] - 7s 22ms/step - loss: 0.1551 - accuracy: 0.9457 - precision: 0.9605 - recall: 0.9296 - val_loss: 0.6321 - val_accuracy: 0.8010 - val_precision: 0.7277 - val_recall: 0.9620\n",
      "Epoch 10/20\n",
      "313/313 [==============================] - 6s 20ms/step - loss: 0.1313 - accuracy: 0.9586 - precision: 0.9747 - recall: 0.9416 - val_loss: 0.4767 - val_accuracy: 0.8475 - val_precision: 0.8089 - val_recall: 0.9100\n",
      "Epoch 11/20\n",
      "313/313 [==============================] - 7s 21ms/step - loss: 0.1353 - accuracy: 0.9553 - precision: 0.9687 - recall: 0.9410 - val_loss: 0.5403 - val_accuracy: 0.8320 - val_precision: 0.7744 - val_recall: 0.9370\n",
      "Epoch 12/20\n",
      "313/313 [==============================] - 6s 20ms/step - loss: 0.1180 - accuracy: 0.9620 - precision: 0.9755 - recall: 0.9478 - val_loss: 0.4392 - val_accuracy: 0.8520 - val_precision: 0.8346 - val_recall: 0.8780\n",
      "Epoch 13/20\n",
      "313/313 [==============================] - 7s 21ms/step - loss: 0.1202 - accuracy: 0.9596 - precision: 0.9719 - recall: 0.9466 - val_loss: 0.6146 - val_accuracy: 0.8230 - val_precision: 0.7596 - val_recall: 0.9450\n",
      "Epoch 14/20\n",
      "313/313 [==============================] - 6s 20ms/step - loss: 0.0884 - accuracy: 0.9727 - precision: 0.9836 - recall: 0.9614 - val_loss: 0.5257 - val_accuracy: 0.8420 - val_precision: 0.8011 - val_recall: 0.9100\n",
      "Epoch 15/20\n",
      "313/313 [==============================] - 6s 20ms/step - loss: 0.0932 - accuracy: 0.9694 - precision: 0.9805 - recall: 0.9578 - val_loss: 0.7692 - val_accuracy: 0.8115 - val_precision: 0.7391 - val_recall: 0.9630\n",
      "Epoch 16/20\n",
      "313/313 [==============================] - 6s 20ms/step - loss: 0.0791 - accuracy: 0.9762 - precision: 0.9867 - recall: 0.9654 - val_loss: 0.9689 - val_accuracy: 0.7495 - val_precision: 0.6712 - val_recall: 0.9780\n",
      "Epoch 17/20\n",
      "313/313 [==============================] - 6s 20ms/step - loss: 0.0816 - accuracy: 0.9740 - precision: 0.9837 - recall: 0.9640 - val_loss: 0.7882 - val_accuracy: 0.8135 - val_precision: 0.7417 - val_recall: 0.9620\n",
      "Epoch 18/20\n",
      "313/313 [==============================] - 7s 21ms/step - loss: 0.0694 - accuracy: 0.9797 - precision: 0.9874 - recall: 0.9718 - val_loss: 0.7695 - val_accuracy: 0.8020 - val_precision: 0.7281 - val_recall: 0.9640\n",
      "Epoch 19/20\n",
      "313/313 [==============================] - 6s 19ms/step - loss: 0.0613 - accuracy: 0.9805 - precision: 0.9882 - recall: 0.9726 - val_loss: 1.0996 - val_accuracy: 0.7705 - val_precision: 0.6901 - val_recall: 0.9820\n",
      "Epoch 20/20\n",
      "313/313 [==============================] - 6s 19ms/step - loss: 0.0699 - accuracy: 0.9775 - precision: 0.9844 - recall: 0.9704 - val_loss: 0.8920 - val_accuracy: 0.8145 - val_precision: 0.7392 - val_recall: 0.9720\n"
     ]
    },
    {
     "data": {
      "text/plain": [
       "<tensorflow.python.keras.callbacks.History at 0x280c5919cd0>"
      ]
     },
     "execution_count": 7,
     "metadata": {},
     "output_type": "execute_result"
    }
   ],
   "source": [
    "model = MyModel()\n",
    "model.compile(optimizer='adam',\n",
    "              loss='binary_crossentropy',\n",
    "              metrics=['accuracy',\n",
    "                      tf.keras.metrics.Precision(name='precision'),\n",
    "                      tf.keras.metrics.Recall(name='recall')])\n",
    "model.fit(train_ds, validation_data=test_ds, epochs=EPOCHS)"
   ]
  }
 ],
 "metadata": {
  "kernelspec": {
   "display_name": "Python 3",
   "language": "python",
   "name": "python3"
  },
  "language_info": {
   "codemirror_mode": {
    "name": "ipython",
    "version": 3
   },
   "file_extension": ".py",
   "mimetype": "text/x-python",
   "name": "python",
   "nbconvert_exporter": "python",
   "pygments_lexer": "ipython3",
   "version": "3.8.5"
  }
 },
 "nbformat": 4,
 "nbformat_minor": 2
}
