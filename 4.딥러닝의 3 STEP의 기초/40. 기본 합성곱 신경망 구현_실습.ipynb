{
 "cells": [
  {
   "cell_type": "markdown",
   "metadata": {},
   "source": [
    "## 기본 합성곱 신경망 구현"
   ]
  },
  {
   "cell_type": "code",
   "execution_count": 1,
   "metadata": {},
   "outputs": [],
   "source": [
    "import tensorflow as tf\n",
    "import numpy as np"
   ]
  },
  {
   "cell_type": "markdown",
   "metadata": {},
   "source": [
    "## 하이퍼 파라미터"
   ]
  },
  {
   "cell_type": "code",
   "execution_count": 2,
   "metadata": {},
   "outputs": [],
   "source": [
    "EPOCHS = 10"
   ]
  },
  {
   "cell_type": "markdown",
   "metadata": {},
   "source": [
    "## 모델 정의"
   ]
  },
  {
   "cell_type": "code",
   "execution_count": 3,
   "metadata": {},
   "outputs": [],
   "source": [
    "class ConvNet(tf.keras.Model):\n",
    "    def __init__(self):\n",
    "        super(ConvNet, self).__init__()\n",
    "        conv2d = tf.keras.layers.Conv2D\n",
    "        maxpool = tf.keras.layers.MaxPool2D\n",
    "        self.sequence = list()\n",
    "        self.sequence.append(conv2d(16, (3, 3), padding='same', activation='relu')) # 28x28x16\n",
    "        self.sequence.append(conv2d(16, (3, 3), padding='same', activation='relu')) # 28x28x16\n",
    "        self.sequence.append(maxpool((2,2))) # 14x14x16\n",
    "        self.sequence.append(conv2d(32, (3, 3), padding='same', activation='relu')) # 14x14x32\n",
    "        self.sequence.append(conv2d(32, (3, 3), padding='same', activation='relu')) # 14x14x32\n",
    "        self.sequence.append(maxpool((2,2))) # 7x7x32\n",
    "        self.sequence.append(conv2d(64, (3, 3), padding='same', activation='relu')) # 7x7x64\n",
    "        self.sequence.append(conv2d(64, (3, 3), padding='same', activation='relu')) # 7x7x64\n",
    "        self.sequence.append(tf.keras.layers.Flatten()) # 1568\n",
    "        self.sequence.append(tf.keras.layers.Dense(128, activation='relu'))\n",
    "        self.sequence.append(tf.keras.layers.Dense(10, activation='softmax'))\n",
    "\n",
    "    def call(self, x, training=False, mask=None):\n",
    "        for layer in self.sequence:\n",
    "            x = layer(x)\n",
    "        return x"
   ]
  },
  {
   "cell_type": "markdown",
   "metadata": {},
   "source": [
    "## 학습, 테스트 루프 정의"
   ]
  },
  {
   "cell_type": "code",
   "execution_count": 4,
   "metadata": {},
   "outputs": [],
   "source": [
    "# Implement training loop\n",
    "@tf.function\n",
    "def train_step(model, images, labels, loss_object, optimizer, train_loss, train_accuracy):\n",
    "    with tf.GradientTape() as tape:\n",
    "        predictions = model(images)\n",
    "        loss = loss_object(labels, predictions)\n",
    "    gradients = tape.gradient(loss, model.trainable_variables)\n",
    "\n",
    "    optimizer.apply_gradients(zip(gradients, model.trainable_variables))\n",
    "    train_loss(loss)\n",
    "    train_accuracy(labels, predictions)\n",
    "\n",
    "# Implement algorithm test\n",
    "@tf.function\n",
    "def test_step(model, images, labels, loss_object, test_loss, test_accuracy):\n",
    "    predictions = model(images)\n",
    "\n",
    "    t_loss = loss_object(labels, predictions)\n",
    "    test_loss(t_loss)\n",
    "    test_accuracy(labels, predictions)"
   ]
  },
  {
   "cell_type": "markdown",
   "metadata": {},
   "source": [
    "## 데이터셋 준비\n"
   ]
  },
  {
   "cell_type": "code",
   "execution_count": 5,
   "metadata": {},
   "outputs": [
    {
     "name": "stdout",
     "output_type": "stream",
     "text": [
      "(60000, 28, 28, 1) (10000, 28, 28, 1)\n"
     ]
    }
   ],
   "source": [
    "mnist = tf.keras.datasets.mnist\n",
    "\n",
    "(x_train, y_train), (x_test, y_test) = mnist.load_data()\n",
    "x_train, x_test = x_train / 255.0, x_test / 255.0\n",
    "\n",
    "# x_train: (NUM_SAMPLE, 28, 28) → (NUM_SAMPLE, 28, 28, 1)\n",
    "x_train = x_train[..., tf.newaxis].astype(np.float32) #... = : : :\n",
    "x_test = x_test[..., tf.newaxis].astype(np.float32)\n",
    "print(x_train.shape, x_test.shape)\n",
    "train_ds = tf.data.Dataset.from_tensor_slices((x_train, y_train)).shuffle(10000).batch(32)\n",
    "test_ds = tf.data.Dataset.from_tensor_slices((x_test, y_test)).batch(32)"
   ]
  },
  {
   "cell_type": "markdown",
   "metadata": {},
   "source": [
    "## 학습 환경 정의\n",
    "### 모델 생성, 손실함수, 최적화 알고리즘, 평가지표 정의"
   ]
  },
  {
   "cell_type": "code",
   "execution_count": 6,
   "metadata": {},
   "outputs": [],
   "source": [
    "# Create model\n",
    "model = ConvNet()\n",
    "\n",
    "# Define loss and optimizer\n",
    "loss_object = tf.keras.losses.SparseCategoricalCrossentropy()\n",
    "optimizer = tf.keras.optimizers.Adam()\n",
    "\n",
    "# Define performance metrics\n",
    "train_loss = tf.keras.metrics.Mean(name='train_loss')\n",
    "train_accuracy = tf.keras.metrics.SparseCategoricalAccuracy(name='train_accuracy')\n",
    "\n",
    "test_loss = tf.keras.metrics.Mean(name='test_loss')\n",
    "test_accuracy = tf.keras.metrics.SparseCategoricalAccuracy(name='test_accuracy')"
   ]
  },
  {
   "cell_type": "markdown",
   "metadata": {},
   "source": [
    "## 학습 루프 동작"
   ]
  },
  {
   "cell_type": "code",
   "execution_count": 7,
   "metadata": {},
   "outputs": [
    {
     "name": "stdout",
     "output_type": "stream",
     "text": [
      "Epoch 1, Loss: 0.1237751916050911, Accuracy: 96.11000061035156, Test Loss: 0.03684305027127266, Test Accuracy: 98.94999694824219\n",
      "Epoch 2, Loss: 0.04286445677280426, Accuracy: 98.63500213623047, Test Loss: 0.04126681759953499, Test Accuracy: 98.73999786376953\n",
      "Epoch 3, Loss: 0.031119802966713905, Accuracy: 99.04500579833984, Test Loss: 0.03630708530545235, Test Accuracy: 98.72999572753906\n",
      "Epoch 4, Loss: 0.024987928569316864, Accuracy: 99.22833251953125, Test Loss: 0.031073981896042824, Test Accuracy: 98.93000030517578\n",
      "Epoch 5, Loss: 0.019090808928012848, Accuracy: 99.39833068847656, Test Loss: 0.03019183874130249, Test Accuracy: 99.13999938964844\n",
      "Epoch 6, Loss: 0.017673026770353317, Accuracy: 99.45832824707031, Test Loss: 0.04088931158185005, Test Accuracy: 98.97999572753906\n",
      "Epoch 7, Loss: 0.014247136190533638, Accuracy: 99.54499816894531, Test Loss: 0.037710465490818024, Test Accuracy: 99.04000091552734\n",
      "Epoch 8, Loss: 0.013340421952307224, Accuracy: 99.55833435058594, Test Loss: 0.03179413080215454, Test Accuracy: 99.22000122070312\n",
      "Epoch 9, Loss: 0.011302164755761623, Accuracy: 99.64500427246094, Test Loss: 0.04149630665779114, Test Accuracy: 99.04000091552734\n",
      "Epoch 10, Loss: 0.011506039649248123, Accuracy: 99.66166687011719, Test Loss: 0.032881442457437515, Test Accuracy: 99.16999816894531\n"
     ]
    }
   ],
   "source": [
    "for epoch in range(EPOCHS):\n",
    "    for images, labels in train_ds:\n",
    "        train_step(model, images, labels, loss_object, optimizer, train_loss, train_accuracy)\n",
    "\n",
    "    for test_images, test_labels in test_ds:\n",
    "        test_step(model, test_images, test_labels, loss_object, test_loss, test_accuracy)\n",
    "\n",
    "    template = 'Epoch {}, Loss: {}, Accuracy: {}, Test Loss: {}, Test Accuracy: {}'\n",
    "    print(template.format(epoch + 1,\n",
    "                          train_loss.result(),\n",
    "                          train_accuracy.result() * 100,\n",
    "                          test_loss.result(),\n",
    "                          test_accuracy.result() * 100))\n",
    "    train_loss.reset_states()\n",
    "    train_accuracy.reset_states()\n",
    "    test_loss.reset_states()\n",
    "    test_accuracy.reset_states()"
   ]
  }
 ],
 "metadata": {
  "kernelspec": {
   "display_name": "Python 3",
   "language": "python",
   "name": "python3"
  },
  "language_info": {
   "codemirror_mode": {
    "name": "ipython",
    "version": 3
   },
   "file_extension": ".py",
   "mimetype": "text/x-python",
   "name": "python",
   "nbconvert_exporter": "python",
   "pygments_lexer": "ipython3",
   "version": "3.8.5"
  }
 },
 "nbformat": 4,
 "nbformat_minor": 2
}
