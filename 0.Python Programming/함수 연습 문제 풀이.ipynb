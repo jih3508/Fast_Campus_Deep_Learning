{
 "cells": [
  {
   "cell_type": "markdown",
   "metadata": {},
   "source": [
    "### 1. 주어진 숫자 리스트의 평균을 구하는 함수를 출력하시오"
   ]
  },
  {
   "cell_type": "code",
   "execution_count": 2,
   "metadata": {},
   "outputs": [],
   "source": [
    "# 내가 한것\n",
    "def avg(x):\n",
    "    _sum = 0\n",
    "    for i in x:\n",
    "        _sum += i\n",
    "    return _sum/len(x)"
   ]
  },
  {
   "cell_type": "code",
   "execution_count": 5,
   "metadata": {},
   "outputs": [
    {
     "name": "stdout",
     "output_type": "stream",
     "text": [
      "2.0\n",
      "3.0\n",
      "3.72\n"
     ]
    }
   ],
   "source": [
    "# 강사님\n",
    "# 입력: 숫자 리스트\n",
    "# 출력: 숫자 리스트의 평균값\n",
    "\n",
    "def mean(nums):\n",
    "    #_sum = 0\n",
    "    #for i in nums:\n",
    "    #    _sum += i\n",
    "    #return _sum / len(nums)\n",
    "    # sum 내장 함수로 사용\n",
    "    return sum(nums)/ len(nums)\n",
    "\n",
    "print(mean([1, 2, 3]))\n",
    "print(mean([1, 2, 3, 4, 5]))\n",
    "print(mean([1, 2, 3.0, 3.9, 8.7]))"
   ]
  },
  {
   "cell_type": "markdown",
   "metadata": {},
   "source": [
    "### 2. 해당 숫자가 소수인지 아닌지 판별하시오."
   ]
  },
  {
   "cell_type": "code",
   "execution_count": 9,
   "metadata": {},
   "outputs": [
    {
     "name": "stdout",
     "output_type": "stream",
     "text": [
      "False\n"
     ]
    }
   ],
   "source": [
    "# 내가 한것\n",
    "def is_prime(num):\n",
    "    for i in range(2, num):\n",
    "        if num % i ==0:\n",
    "            return False\n",
    "    return True\n",
    "\n",
    "print(is_prime(100))"
   ]
  },
  {
   "cell_type": "code",
   "execution_count": 13,
   "metadata": {},
   "outputs": [
    {
     "name": "stdout",
     "output_type": "stream",
     "text": [
      "False\n",
      "True\n",
      "True\n",
      "True\n"
     ]
    }
   ],
   "source": [
    "# 강사님\n",
    "# 소수 판별 (1과 자기 자신으로만 나눠지는 수)\n",
    "# 입력: 양의 정수 1개\n",
    "# 출력: boolean (소수: True, 합성수: False)\n",
    "\n",
    "def is_prime(num):\n",
    "    for i in range(2, num):\n",
    "        if num % i == 0:\n",
    "            return False\n",
    "    return True\n",
    "\n",
    "print(is_prime(100))\n",
    "print(is_prime(89))\n",
    "print(is_prime(17))\n",
    "print(is_prime(2))"
   ]
  },
  {
   "cell_type": "markdown",
   "metadata": {},
   "source": [
    "### 3. 2부터 해당 숫자사이에 소수가 몇개인지 출력하는 함수를 구하시오."
   ]
  },
  {
   "cell_type": "code",
   "execution_count": 14,
   "metadata": {},
   "outputs": [
    {
     "name": "stdout",
     "output_type": "stream",
     "text": [
      "4\n",
      "3\n",
      "25\n"
     ]
    }
   ],
   "source": [
    "# 2, 3, 4, 6, 7, 7 → 4\n",
    "# 2, 3, 4, 5 → 3\n",
    "# 입력: 양의 정수 1개\n",
    "# 출력: 2-해당 숫자 사이의 소수의 개수\n",
    "\n",
    "def num_prime(num):\n",
    "    count = 0\n",
    "    for i in range(2, num+1):\n",
    "        if is_prime(i):\n",
    "            count += 1\n",
    "    return count\n",
    "\n",
    "print(num_prime(7))\n",
    "print(num_prime(5))\n",
    "print(num_prime(100))"
   ]
  },
  {
   "cell_type": "code",
   "execution_count": null,
   "metadata": {},
   "outputs": [],
   "source": []
  }
 ],
 "metadata": {
  "kernelspec": {
   "display_name": "Python 3",
   "language": "python",
   "name": "python3"
  },
  "language_info": {
   "codemirror_mode": {
    "name": "ipython",
    "version": 3
   },
   "file_extension": ".py",
   "mimetype": "text/x-python",
   "name": "python",
   "nbconvert_exporter": "python",
   "pygments_lexer": "ipython3",
   "version": "3.8.3"
  }
 },
 "nbformat": 4,
 "nbformat_minor": 4
}
