{
 "cells": [
  {
   "cell_type": "markdown",
   "metadata": {},
   "source": [
    "### 1. 복소수 클래스를 정의\n",
    "### 2. 덧셈, 뺄셈, 곱셈 연산자 지원\n",
    "### 3. 길이 (복소수의 크기) 지원\n",
    "### 4. 복소수 출력 '1 + 4j'와 같이 표현\n",
    "### 5. 비교 연산 ==, != 지원\n",
    "> =,<=,<,> 연산 지원\n",
    "### 6. 절대값 지원"
   ]
  },
  {
   "cell_type": "code",
   "execution_count": 17,
   "metadata": {},
   "outputs": [
    {
     "name": "stdout",
     "output_type": "stream",
     "text": [
      "3 + 6j\n",
      "-1 + 8j\n"
     ]
    },
    {
     "data": {
      "text/plain": [
       "5"
      ]
     },
     "execution_count": 17,
     "metadata": {},
     "output_type": "execute_result"
    }
   ],
   "source": [
    "import math\n",
    "\n",
    "class ComplexNumber:\n",
    "    def __init__(self, real, img):\n",
    "        self.real = real\n",
    "        self.img = img\n",
    "        \n",
    "    def __add__(self, cn):\n",
    "        return ComplexNumber(self.real + cn.real, self.img + cn.img)\n",
    "    \n",
    "    def __sub__(self, cn):\n",
    "        return ComplexNumber(self.real - cn.real, self.img - cn.img)\n",
    "    \n",
    "    def __mul__(self, x):\n",
    "        if type(x) == int:\n",
    "            return ComplexNumber(self.real * x, self.img * x)\n",
    "        if type(x) == ComplexNumber:\n",
    "            # (a + bj) * (c + dj) = (ac - bd) + (ad + bc)j\n",
    "            return ComplexNumber(self.real * x.real - self.img * x.img, self.real * x.img + self.img * x.real)\n",
    "    \n",
    "    def __str__(self):\n",
    "        if self.img>=0:\n",
    "            return '{} + {}j'.format(self.real, self.img)\n",
    "        else: \n",
    "            return '{} - {}j'.format(self.real, abs(self.img))\n",
    "        \n",
    "    def __eq__(self, cn): # ==\n",
    "        return self.real == cn.real and self.img == cn.img\n",
    "    \n",
    "    def __ne__(self, cn): # !=\n",
    "        return not (self.real == cn.real and self.img == cn.img)\n",
    "    \n",
    "    def __abs__(self): # 절대값\n",
    "        return math.sqrt(self.real **2 + self.img ** 2)\n",
    "    \n",
    "    def __len__(self):\n",
    "        return self.real **2 + self.img ** 2\n",
    "    \n",
    "a = ComplexNumber(1, 2)\n",
    "b = ComplexNumber(3, 2)\n",
    "print(a * 3)\n",
    "print(b * a)\n",
    "\n",
    "len(a)"
   ]
  },
  {
   "cell_type": "code",
   "execution_count": null,
   "metadata": {},
   "outputs": [],
   "source": []
  }
 ],
 "metadata": {
  "kernelspec": {
   "display_name": "Python 3",
   "language": "python",
   "name": "python3"
  },
  "language_info": {
   "codemirror_mode": {
    "name": "ipython",
    "version": 3
   },
   "file_extension": ".py",
   "mimetype": "text/x-python",
   "name": "python",
   "nbconvert_exporter": "python",
   "pygments_lexer": "ipython3",
   "version": "3.8.5"
  }
 },
 "nbformat": 4,
 "nbformat_minor": 4
}
